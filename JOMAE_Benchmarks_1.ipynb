{
 "cells": [
  {
   "cell_type": "code",
   "execution_count": 1,
   "metadata": {},
   "outputs": [],
   "source": [
    "import numpy as np\n",
    "import pandas as pd\n",
    "import matplotlib.pyplot as plt\n",
    "\n",
    "from itertools import product\n",
    "#from tqdm import tqdm\n",
    "from numpy.linalg import matrix_power\n",
    "from numpy.random import choice\n",
    "\n",
    "from matplotlib.patches import Rectangle\n",
    "from matplotlib.cm import ScalarMappable\n",
    "import pylab as pl\n",
    "from mpl_toolkits.axes_grid1 import make_axes_locatable\n",
    "    \n",
    "import mdptoolbox"
   ]
  },
  {
   "cell_type": "markdown",
   "metadata": {},
   "source": [
    "# Load Scottish Data"
   ]
  },
  {
   "cell_type": "code",
   "execution_count": 3,
   "metadata": {
    "tags": []
   },
   "outputs": [
    {
     "data": {
      "text/html": [
       "<div>\n",
       "<style scoped>\n",
       "    .dataframe tbody tr th:only-of-type {\n",
       "        vertical-align: middle;\n",
       "    }\n",
       "\n",
       "    .dataframe tbody tr th {\n",
       "        vertical-align: top;\n",
       "    }\n",
       "\n",
       "    .dataframe thead th {\n",
       "        text-align: right;\n",
       "    }\n",
       "</style>\n",
       "<table border=\"1\" class=\"dataframe\">\n",
       "  <thead>\n",
       "    <tr style=\"text-align: right;\">\n",
       "      <th></th>\n",
       "      <th>Year</th>\n",
       "      <th>Month</th>\n",
       "      <th>Day</th>\n",
       "      <th>Hour</th>\n",
       "      <th>Hs (m)</th>\n",
       "      <th>v10 (m/s)</th>\n",
       "      <th>Beaufort</th>\n",
       "    </tr>\n",
       "  </thead>\n",
       "  <tbody>\n",
       "    <tr>\n",
       "      <th>0</th>\n",
       "      <td>2008</td>\n",
       "      <td>1</td>\n",
       "      <td>1</td>\n",
       "      <td>0</td>\n",
       "      <td>3.446098</td>\n",
       "      <td>6.504866</td>\n",
       "      <td>6</td>\n",
       "    </tr>\n",
       "    <tr>\n",
       "      <th>1</th>\n",
       "      <td>2008</td>\n",
       "      <td>1</td>\n",
       "      <td>1</td>\n",
       "      <td>6</td>\n",
       "      <td>3.337338</td>\n",
       "      <td>7.705570</td>\n",
       "      <td>6</td>\n",
       "    </tr>\n",
       "    <tr>\n",
       "      <th>2</th>\n",
       "      <td>2008</td>\n",
       "      <td>1</td>\n",
       "      <td>1</td>\n",
       "      <td>12</td>\n",
       "      <td>3.195431</td>\n",
       "      <td>7.402196</td>\n",
       "      <td>6</td>\n",
       "    </tr>\n",
       "    <tr>\n",
       "      <th>3</th>\n",
       "      <td>2008</td>\n",
       "      <td>1</td>\n",
       "      <td>1</td>\n",
       "      <td>18</td>\n",
       "      <td>2.971436</td>\n",
       "      <td>6.317548</td>\n",
       "      <td>5</td>\n",
       "    </tr>\n",
       "    <tr>\n",
       "      <th>4</th>\n",
       "      <td>2008</td>\n",
       "      <td>1</td>\n",
       "      <td>2</td>\n",
       "      <td>0</td>\n",
       "      <td>3.067249</td>\n",
       "      <td>7.646887</td>\n",
       "      <td>6</td>\n",
       "    </tr>\n",
       "    <tr>\n",
       "      <th>...</th>\n",
       "      <td>...</td>\n",
       "      <td>...</td>\n",
       "      <td>...</td>\n",
       "      <td>...</td>\n",
       "      <td>...</td>\n",
       "      <td>...</td>\n",
       "      <td>...</td>\n",
       "    </tr>\n",
       "    <tr>\n",
       "      <th>14595</th>\n",
       "      <td>2017</td>\n",
       "      <td>12</td>\n",
       "      <td>30</td>\n",
       "      <td>18</td>\n",
       "      <td>4.619158</td>\n",
       "      <td>10.236058</td>\n",
       "      <td>7</td>\n",
       "    </tr>\n",
       "    <tr>\n",
       "      <th>14596</th>\n",
       "      <td>2017</td>\n",
       "      <td>12</td>\n",
       "      <td>31</td>\n",
       "      <td>0</td>\n",
       "      <td>4.509621</td>\n",
       "      <td>7.472284</td>\n",
       "      <td>7</td>\n",
       "    </tr>\n",
       "    <tr>\n",
       "      <th>14597</th>\n",
       "      <td>2017</td>\n",
       "      <td>12</td>\n",
       "      <td>31</td>\n",
       "      <td>6</td>\n",
       "      <td>3.979025</td>\n",
       "      <td>6.199845</td>\n",
       "      <td>6</td>\n",
       "    </tr>\n",
       "    <tr>\n",
       "      <th>14598</th>\n",
       "      <td>2017</td>\n",
       "      <td>12</td>\n",
       "      <td>31</td>\n",
       "      <td>12</td>\n",
       "      <td>3.666209</td>\n",
       "      <td>11.561856</td>\n",
       "      <td>6</td>\n",
       "    </tr>\n",
       "    <tr>\n",
       "      <th>14599</th>\n",
       "      <td>2017</td>\n",
       "      <td>12</td>\n",
       "      <td>31</td>\n",
       "      <td>18</td>\n",
       "      <td>3.298495</td>\n",
       "      <td>7.788988</td>\n",
       "      <td>6</td>\n",
       "    </tr>\n",
       "  </tbody>\n",
       "</table>\n",
       "<p>14600 rows × 7 columns</p>\n",
       "</div>"
      ],
      "text/plain": [
       "       Year  Month  Day  Hour    Hs (m)  v10 (m/s)  Beaufort\n",
       "0      2008      1    1     0  3.446098   6.504866         6\n",
       "1      2008      1    1     6  3.337338   7.705570         6\n",
       "2      2008      1    1    12  3.195431   7.402196         6\n",
       "3      2008      1    1    18  2.971436   6.317548         5\n",
       "4      2008      1    2     0  3.067249   7.646887         6\n",
       "...     ...    ...  ...   ...       ...        ...       ...\n",
       "14595  2017     12   30    18  4.619158  10.236058         7\n",
       "14596  2017     12   31     0  4.509621   7.472284         7\n",
       "14597  2017     12   31     6  3.979025   6.199845         6\n",
       "14598  2017     12   31    12  3.666209  11.561856         6\n",
       "14599  2017     12   31    18  3.298495   7.788988         6\n",
       "\n",
       "[14600 rows x 7 columns]"
      ]
     },
     "execution_count": 3,
     "metadata": {},
     "output_type": "execute_result"
    }
   ],
   "source": [
    "df_metocean = pd.read_csv(\"Scotland_metocean_removed.csv\")\n",
    "df_metocean['Beaufort'] = 0\n",
    "bf =  np.array([0,0.3,0.6,1.2,2,3,4,5.5,7.5,40]) #0 - 9+ totla 10 scale\n",
    "for i in range(1,len(bf)):\n",
    "    df_metocean.Beaufort = np.where(((df_metocean['Hs (m)'] < bf[i]) & (df_metocean['Hs (m)'] > bf[i-1])),i,df_metocean.Beaufort)\n",
    "df_metocean"
   ]
  },
  {
   "cell_type": "markdown",
   "metadata": {},
   "source": [
    "### Plotter"
   ]
  },
  {
   "cell_type": "code",
   "execution_count": 6,
   "metadata": {
    "tags": []
   },
   "outputs": [
    {
     "data": {
      "image/png": "[encoded data removed]",
      "text/plain": [
       "<Figure size 700x500 with 3 Axes>"
      ]
     },
     "metadata": {},
     "output_type": "display_data"
    }
   ],
   "source": [
    "BeaufortSafetyThres = 5\n",
    "BinaryTimeSeries = df_metocean['Beaufort'] <= BeaufortSafetyThres\n",
    "BinaryTimeSeries = BinaryTimeSeries.astype(int)\n",
    "ElapsedTimeSafeWeather = np.zeros_like(BinaryTimeSeries)\n",
    "if BinaryTimeSeries[0]:\n",
    "    ElapsedTimeSafeWeather[0] = 1\n",
    "for i in range(1,BinaryTimeSeries.shape[0]):\n",
    "    if BinaryTimeSeries[i]:\n",
    "        ElapsedTimeSafeWeather[i] = ElapsedTimeSafeWeather[i-1] + 1    \n",
    "\n",
    "plt.rcParams.update({'font.size': 12})\n",
    "fig, ax = plt.subplots(3,1, figsize=[7,5])\n",
    "ax[0].plot(df_metocean['Hs (m)'][:120],'k',marker='.',lw=1)\n",
    "ax[0].plot([0,120],[3,3],'k--',lw=1)\n",
    "ax[0].set_xticks(np.array([0,4*7,4*7*2,4*7*3,4*7*4]))\n",
    "ax[0].set_xticklabels([]) #add monthlabels to the xaxis\n",
    "ax[0].set_yticks([1,3,5,7,9])\n",
    "ax[0].set_ylabel('$H_{s}$ (m)')\n",
    "\n",
    "ax[1].plot(df_metocean['Beaufort'][:120],'k',lw=1)\n",
    "ax[1].scatter(np.where(BinaryTimeSeries[:120])[0],df_metocean['Beaufort'][np.where(BinaryTimeSeries[:120])[0]],color='C0',s=10)\n",
    "ax[1].scatter(np.where(1-BinaryTimeSeries[:120])[0],df_metocean['Beaufort'][np.where(1-BinaryTimeSeries[:120])[0]],color='C1',s=10)\n",
    "ax[1].plot([0,120],[BeaufortSafetyThres,BeaufortSafetyThres],'k--',lw=1)\n",
    "ax[1].set_xticks(np.array([0,4*7,4*7*2,4*7*3,4*7*4]))\n",
    "ax[1].set_xticklabels([]) #add monthlabels to the xaxis\n",
    "ax[1].set_yticks([4,5,6,7,8,9])\n",
    "ax[1].set_ylabel('Beaufort\\nscale')\n",
    "\n",
    "ax[2].plot(ElapsedTimeSafeWeather[:120],'k',marker='.')\n",
    "ax[2].set_xticks(np.array([0,4*7,4*7*2,4*7*3,4*7*4]))\n",
    "ticklabels = ['Jan 1st','Jan 8th','Jan 15th','Jan 22nd','Jan 29th']\n",
    "ax[2].set_xticklabels(ticklabels) #add monthlabels to the xaxis\n",
    "ax[2].set_ylabel('Favorable time\\n$x$')\n",
    "plt.tight_layout()\n",
    "#plt.savefig('slide_img/preprocessing.jpg',dpi=250)\n",
    "plt.show()"
   ]
  },
  {
   "cell_type": "code",
   "execution_count": 7,
   "metadata": {},
   "outputs": [
    {
     "data": {
      "image/png": "[encoded data removed]",
      "text/plain": [
       "<Figure size 1200x600 with 6 Axes>"
      ]
     },
     "metadata": {},
     "output_type": "display_data"
    }
   ],
   "source": [
    "BinaryTimeSeries_hs = df_metocean['Hs (m)'] <= 3\n",
    "BinaryTimeSeries_hs = BinaryTimeSeries_hs.astype(int)\n",
    "ElapsedTimeSafeWeather_hs = np.zeros_like(BinaryTimeSeries_hs)\n",
    "if BinaryTimeSeries_hs[0]:\n",
    "    ElapsedTimeSafeWeather_hs[0] = 1\n",
    "for i in range(1,BinaryTimeSeries_hs.shape[0]):\n",
    "    if BinaryTimeSeries_hs[i]:\n",
    "        ElapsedTimeSafeWeather_hs[i] = ElapsedTimeSafeWeather_hs[i-1] + 1  \n",
    "        \n",
    "BinaryTimeSeries_v = df_metocean['v10 (m/s)'] <= 10\n",
    "BinaryTimeSeries_v = BinaryTimeSeries_v.astype(int)\n",
    "ElapsedTimeSafeWeather_v = np.zeros_like(BinaryTimeSeries_v)\n",
    "if BinaryTimeSeries_v[0]:\n",
    "    ElapsedTimeSafeWeather_v[0] = 1\n",
    "for i in range(1,BinaryTimeSeries_v.shape[0]):\n",
    "    if BinaryTimeSeries_v[i]:\n",
    "        ElapsedTimeSafeWeather_v[i] = ElapsedTimeSafeWeather_v[i-1] + 1  \n",
    "\n",
    "BinaryTimeSeries_all = (df_metocean['Hs (m)'] <= 3) & (df_metocean['v10 (m/s)'] <= 10)\n",
    "BinaryTimeSeries_all = BinaryTimeSeries_all.astype(int)\n",
    "ElapsedTimeSafeWeather_all = np.zeros_like(BinaryTimeSeries_all)\n",
    "if BinaryTimeSeries_all[0]:\n",
    "    ElapsedTimeSafeWeather_all[0] = 1\n",
    "for i in range(1,BinaryTimeSeries_all.shape[0]):\n",
    "    if BinaryTimeSeries_all[i]:\n",
    "        ElapsedTimeSafeWeather_all[i] = ElapsedTimeSafeWeather_all[i-1] + 1  \n",
    "        \n",
    "plt.rcParams.update({'font.size': 12})\n",
    "fig, ax = plt.subplots(3,2, figsize=[12,6])\n",
    "\n",
    "ax[0,0].axis('off')\n",
    "\n",
    "ax[1,0].plot(df_metocean['Hs (m)'][:120],'k',lw=1)\n",
    "ax[1,0].scatter(np.where(BinaryTimeSeries_hs[:120])[0],df_metocean['Hs (m)'][np.where(BinaryTimeSeries_hs[:120])[0]],color='C0',s=10)\n",
    "ax[1,0].scatter(np.where(1-BinaryTimeSeries_hs[:120])[0],df_metocean['Hs (m)'][np.where(1-BinaryTimeSeries_hs[:120])[0]],color='C1',s=10)\n",
    "ax[1,0].plot([0,120],[3,3],'k--',lw=1)\n",
    "ax[1,0].set_xticks(np.array([0,4*7,4*7*2,4*7*3,4*7*4]))\n",
    "ax[1,0].set_xticklabels([]) #add monthlabels to the xaxis\n",
    "ax[1,0].set_yticks([1,3,5,7,9])\n",
    "ax[1,0].set_ylabel('$H_{s}$ (m)')\n",
    "\n",
    "ax[2,0].plot(ElapsedTimeSafeWeather_hs[:120],'k',marker='.')\n",
    "ax[2,0].set_xticks(np.array([0,4*7,4*7*2,4*7*3,4*7*4]))\n",
    "ticklabels = ['Jan 1st','Jan 8th','Jan 15th','Jan 22nd','Jan 29th']\n",
    "ax[2,0].set_xticklabels(ticklabels) #add monthlabels to the xaxis\n",
    "ax[2,0].set_ylabel('Favorable time\\n$x$')\n",
    "ylim= ax[2,0].get_ylim()\n",
    "\n",
    "ax[0,1].plot(df_metocean['v10 (m/s)'][:120],'k',lw=1)\n",
    "ax[0,1].scatter(np.where(BinaryTimeSeries_v[:120])[0],df_metocean['v10 (m/s)'][np.where(BinaryTimeSeries_v[:120])[0]],color='C0',s=10)\n",
    "ax[0,1].scatter(np.where(1-BinaryTimeSeries_v[:120])[0],df_metocean['v10 (m/s)'][np.where(1-BinaryTimeSeries_v[:120])[0]],color='C1',s=10)\n",
    "ax[0,1].plot([0,120],[10,10],'k--',lw=1)\n",
    "ax[0,1].set_xticks(np.array([0,4*7,4*7*2,4*7*3,4*7*4]))\n",
    "ax[0,1].set_xticklabels([]) #add monthlabels to the xaxis\n",
    "#ax[0,1].set_yticks([1,3,5,7,9])\n",
    "ax[0,1].set_ylabel('$V_{10}$ (m/s)')\n",
    "\n",
    "ax[1,1].plot(df_metocean['Hs (m)'][:120],'k',lw=1)\n",
    "ax[1,1].scatter(np.where(BinaryTimeSeries_hs[:120])[0],df_metocean['Hs (m)'][np.where(BinaryTimeSeries_hs[:120])[0]],color='C0',s=10)\n",
    "ax[1,1].scatter(np.where(1-BinaryTimeSeries_hs[:120])[0],df_metocean['Hs (m)'][np.where(1-BinaryTimeSeries_hs[:120])[0]],color='C1',s=10)\n",
    "ax[1,1].plot([0,120],[3,3],'k--',lw=1)\n",
    "ax[1,1].set_xticks(np.array([0,4*7,4*7*2,4*7*3,4*7*4]))\n",
    "ax[1,1].set_xticklabels([]) #add monthlabels to the xaxis\n",
    "ax[1,1].set_yticks([1,3,5,7,9])\n",
    "ax[1,1].set_ylabel('$H_{s}$ (m)')\n",
    "\n",
    "ax[2,1].plot(ElapsedTimeSafeWeather_all[:120],'k',marker='.')\n",
    "ax[2,1].set_xticks(np.array([0,4*7,4*7*2,4*7*3,4*7*4]))\n",
    "ticklabels = ['Jan 1st','Jan 8th','Jan 15th','Jan 22nd','Jan 29th']\n",
    "ax[2,1].set_xticklabels(ticklabels) #add monthlabels to the xaxis\n",
    "ax[2,1].set_ylabel('Favorable time\\n$x$')\n",
    "ax[2,1].set_ylim(ylim)\n",
    "plt.tight_layout()\n",
    "#plt.savefig('multivariables.jpg',dpi=250)\n",
    "plt.show()"
   ]
  },
  {
   "cell_type": "markdown",
   "metadata": {},
   "source": [
    "### Transition Matrix Counting Video Generator"
   ]
  },
  {
   "cell_type": "code",
   "execution_count": 6,
   "metadata": {},
   "outputs": [
    {
     "data": {
      "text/html": [
       "<div>\n",
       "<style scoped>\n",
       "    .dataframe tbody tr th:only-of-type {\n",
       "        vertical-align: middle;\n",
       "    }\n",
       "\n",
       "    .dataframe tbody tr th {\n",
       "        vertical-align: top;\n",
       "    }\n",
       "\n",
       "    .dataframe thead th {\n",
       "        text-align: right;\n",
       "    }\n",
       "</style>\n",
       "<table border=\"1\" class=\"dataframe\">\n",
       "  <thead>\n",
       "    <tr style=\"text-align: right;\">\n",
       "      <th></th>\n",
       "      <th>Year</th>\n",
       "      <th>Month</th>\n",
       "      <th>Day</th>\n",
       "      <th>Hour</th>\n",
       "      <th>v10 (m/s)</th>\n",
       "      <th>v10_pri</th>\n",
       "      <th>Beaufort</th>\n",
       "      <th>Beaufort_pri</th>\n",
       "      <th>timeindex</th>\n",
       "    </tr>\n",
       "  </thead>\n",
       "  <tbody>\n",
       "    <tr>\n",
       "      <th>0</th>\n",
       "      <td>2008</td>\n",
       "      <td>1</td>\n",
       "      <td>1</td>\n",
       "      <td>0</td>\n",
       "      <td>6.504866</td>\n",
       "      <td>NaN</td>\n",
       "      <td>4</td>\n",
       "      <td>NaN</td>\n",
       "      <td>0</td>\n",
       "    </tr>\n",
       "    <tr>\n",
       "      <th>1</th>\n",
       "      <td>2008</td>\n",
       "      <td>1</td>\n",
       "      <td>1</td>\n",
       "      <td>6</td>\n",
       "      <td>7.705570</td>\n",
       "      <td>6.504866</td>\n",
       "      <td>4</td>\n",
       "      <td>4.0</td>\n",
       "      <td>1</td>\n",
       "    </tr>\n",
       "    <tr>\n",
       "      <th>2</th>\n",
       "      <td>2008</td>\n",
       "      <td>1</td>\n",
       "      <td>1</td>\n",
       "      <td>12</td>\n",
       "      <td>7.402196</td>\n",
       "      <td>7.705570</td>\n",
       "      <td>4</td>\n",
       "      <td>4.0</td>\n",
       "      <td>2</td>\n",
       "    </tr>\n",
       "    <tr>\n",
       "      <th>3</th>\n",
       "      <td>2008</td>\n",
       "      <td>1</td>\n",
       "      <td>1</td>\n",
       "      <td>18</td>\n",
       "      <td>6.317548</td>\n",
       "      <td>7.402196</td>\n",
       "      <td>4</td>\n",
       "      <td>4.0</td>\n",
       "      <td>3</td>\n",
       "    </tr>\n",
       "    <tr>\n",
       "      <th>4</th>\n",
       "      <td>2008</td>\n",
       "      <td>1</td>\n",
       "      <td>2</td>\n",
       "      <td>0</td>\n",
       "      <td>7.646887</td>\n",
       "      <td>6.317548</td>\n",
       "      <td>4</td>\n",
       "      <td>4.0</td>\n",
       "      <td>4</td>\n",
       "    </tr>\n",
       "    <tr>\n",
       "      <th>...</th>\n",
       "      <td>...</td>\n",
       "      <td>...</td>\n",
       "      <td>...</td>\n",
       "      <td>...</td>\n",
       "      <td>...</td>\n",
       "      <td>...</td>\n",
       "      <td>...</td>\n",
       "      <td>...</td>\n",
       "      <td>...</td>\n",
       "    </tr>\n",
       "    <tr>\n",
       "      <th>14595</th>\n",
       "      <td>2017</td>\n",
       "      <td>12</td>\n",
       "      <td>30</td>\n",
       "      <td>18</td>\n",
       "      <td>10.236058</td>\n",
       "      <td>9.961706</td>\n",
       "      <td>5</td>\n",
       "      <td>5.0</td>\n",
       "      <td>1455</td>\n",
       "    </tr>\n",
       "    <tr>\n",
       "      <th>14596</th>\n",
       "      <td>2017</td>\n",
       "      <td>12</td>\n",
       "      <td>31</td>\n",
       "      <td>0</td>\n",
       "      <td>7.472284</td>\n",
       "      <td>10.236058</td>\n",
       "      <td>4</td>\n",
       "      <td>5.0</td>\n",
       "      <td>1456</td>\n",
       "    </tr>\n",
       "    <tr>\n",
       "      <th>14597</th>\n",
       "      <td>2017</td>\n",
       "      <td>12</td>\n",
       "      <td>31</td>\n",
       "      <td>6</td>\n",
       "      <td>6.199845</td>\n",
       "      <td>7.472284</td>\n",
       "      <td>4</td>\n",
       "      <td>4.0</td>\n",
       "      <td>1457</td>\n",
       "    </tr>\n",
       "    <tr>\n",
       "      <th>14598</th>\n",
       "      <td>2017</td>\n",
       "      <td>12</td>\n",
       "      <td>31</td>\n",
       "      <td>12</td>\n",
       "      <td>11.561856</td>\n",
       "      <td>6.199845</td>\n",
       "      <td>6</td>\n",
       "      <td>4.0</td>\n",
       "      <td>1458</td>\n",
       "    </tr>\n",
       "    <tr>\n",
       "      <th>14599</th>\n",
       "      <td>2017</td>\n",
       "      <td>12</td>\n",
       "      <td>31</td>\n",
       "      <td>18</td>\n",
       "      <td>7.788988</td>\n",
       "      <td>11.561856</td>\n",
       "      <td>4</td>\n",
       "      <td>6.0</td>\n",
       "      <td>1459</td>\n",
       "    </tr>\n",
       "  </tbody>\n",
       "</table>\n",
       "<p>14600 rows × 9 columns</p>\n",
       "</div>"
      ],
      "text/plain": [
       "       Year  Month  Day  Hour  v10 (m/s)    v10_pri  Beaufort  Beaufort_pri  \\\n",
       "0      2008      1    1     0   6.504866        NaN         4           NaN   \n",
       "1      2008      1    1     6   7.705570   6.504866         4           4.0   \n",
       "2      2008      1    1    12   7.402196   7.705570         4           4.0   \n",
       "3      2008      1    1    18   6.317548   7.402196         4           4.0   \n",
       "4      2008      1    2     0   7.646887   6.317548         4           4.0   \n",
       "...     ...    ...  ...   ...        ...        ...       ...           ...   \n",
       "14595  2017     12   30    18  10.236058   9.961706         5           5.0   \n",
       "14596  2017     12   31     0   7.472284  10.236058         4           5.0   \n",
       "14597  2017     12   31     6   6.199845   7.472284         4           4.0   \n",
       "14598  2017     12   31    12  11.561856   6.199845         6           4.0   \n",
       "14599  2017     12   31    18   7.788988  11.561856         4           6.0   \n",
       "\n",
       "       timeindex  \n",
       "0              0  \n",
       "1              1  \n",
       "2              2  \n",
       "3              3  \n",
       "4              4  \n",
       "...          ...  \n",
       "14595       1455  \n",
       "14596       1456  \n",
       "14597       1457  \n",
       "14598       1458  \n",
       "14599       1459  \n",
       "\n",
       "[14600 rows x 9 columns]"
      ]
     },
     "execution_count": 6,
     "metadata": {},
     "output_type": "execute_result"
    }
   ],
   "source": [
    "df_metocean = pd.read_csv(\"Scotland_metocean_removed.csv\")\n",
    "df_metocean = df_metocean.drop(['Hs (m)'], axis=1)\n",
    "df_metocean['v10_pri'] = df_metocean['v10 (m/s)'].shift(1)\n",
    "df_metocean['Beaufort'] = 0\n",
    "bf =  np.array([0.5,1.5,3.3,5.5,7.9,10.7,13.8,17.1,20.7,40]) #0 - 9+ totla 10 scale\n",
    "for i in range(1,len(bf)):\n",
    "    df_metocean.Beaufort = np.where(((df_metocean['v10 (m/s)'] < bf[i]) & (df_metocean['v10 (m/s)'] > bf[i-1])),i,df_metocean.Beaufort)\n",
    "df_metocean['Beaufort_pri'] = 0\n",
    "df_metocean['Beaufort_pri'] = df_metocean['Beaufort'].shift(1)\n",
    "df_metocean['timeindex'] = df_metocean.index%1460\n",
    "df_metocean"
   ]
  },
  {
   "cell_type": "code",
   "execution_count": 13,
   "metadata": {},
   "outputs": [],
   "source": [
    "BeaufortSafetyThres = 5\n",
    "WorkTime = 1\n",
    "t_aux = 2\n",
    "c_down = -1.5\n",
    "c_fail = -1\n",
    "cmap='viridis'"
   ]
  },
  {
   "cell_type": "code",
   "execution_count": 14,
   "metadata": {},
   "outputs": [],
   "source": [
    "#Elapsed time series\n",
    "BinaryTS = df_metocean['Beaufort'] <= BeaufortSafetyThres\n",
    "BinaryTS = BinaryTS.astype(int)\n",
    "ElapsedFavorableTime = np.zeros_like(BinaryTS)\n",
    "if BinaryTS[0]:\n",
    "    ElapsedFavorableTime[0] = 1\n",
    "for i in range(1,BinaryTS.shape[0]):\n",
    "    if BinaryTS[i]:\n",
    "        ElapsedFavorableTime[i] = ElapsedFavorableTime[i-1] + 1\n",
    "\n",
    "#burnin\n",
    "burnin = np.where(ElapsedFavorableTime == 0)[0][0]\n",
    "BinaryTS = np.array(BinaryTS[burnin:])\n",
    "elaps = ElapsedFavorableTime[burnin:]\n",
    "ub = np.max(elaps)\n",
    "\n",
    "#Intermediate transition matrix\n",
    "CmfWTC = np.zeros((ub+1,ub+1), dtype=int)\n",
    "\n",
    "# Elapsed Time Safe Weather Truncation: 21+ time steps will be considered as 21\n",
    "#elaps_trnc = ElapsedFavorableTime.copy()\n",
    "#elaps_trnc[np.where(ElapsedFavorableTime > 21)] = 21\n",
    "\n",
    "for i in range(WorkTime,len(elaps)):\n",
    "    CmfWTC[elaps[i-WorkTime],elaps[i]] += 1\n",
    "\n",
    "TransitionWTC = np.divide(CmfWTC,np.sum(CmfWTC,1)[:,None])"
   ]
  },
  {
   "cell_type": "code",
   "execution_count": 11,
   "metadata": {},
   "outputs": [],
   "source": [
    "fav_scotland = []\n",
    "bad_scotland = []\n",
    "count = 0\n",
    "for i in range(1,BinaryTS.shape[0]):\n",
    "    if BinaryTS[i] == 0:\n",
    "        if ElapsedFavorableTime[i-1] == 0:\n",
    "            count += 1\n",
    "        else:\n",
    "            fav_scotland.append(ElapsedFavorableTime[i-1])\n",
    "    else:\n",
    "        if ElapsedFavorableTime[i-1] == 0:\n",
    "            count += 1\n",
    "            bad_scotland.append(count)\n",
    "            count = 0"
   ]
  },
  {
   "cell_type": "code",
   "execution_count": 7,
   "metadata": {},
   "outputs": [
    {
     "data": {
      "image/png": "[encoded data removed]",
      "text/plain": [
       "<Figure size 115.2x43.2 with 1 Axes>"
      ]
     },
     "metadata": {},
     "output_type": "display_data"
    }
   ],
   "source": [
    "ax = plt.figure(figsize=(1.6,0.6)).add_subplot(111)\n",
    "ax.plot(df_metocean['Beaufort'].iloc[205:405],'k')\n",
    "ax.plot([205,405],[5,5],'r--')\n",
    "plt.tick_params(axis='x',which='both',bottom=False,labelbottom=False)\n",
    "plt.tick_params(axis='y',which='both',left=False,labelleft=False) \n",
    "plt.show()"
   ]
  },
  {
   "cell_type": "code",
   "execution_count": 8,
   "metadata": {},
   "outputs": [
    {
     "data": {
      "image/png": "[encoded data removed]",
      "text/plain": [
       "<Figure size 590.4x100.8 with 1 Axes>"
      ]
     },
     "metadata": {
      "needs_background": "light"
     },
     "output_type": "display_data"
    }
   ],
   "source": [
    "ax = plt.figure(figsize=(8.2,1.4)).add_subplot(111)\n",
    "ax.plot(elaps[200:400],'k',label='SCT',lw=1)\n",
    "plt.xlabel('time step')\n",
    "plt.ylabel('x')\n",
    "plt.legend()\n",
    "#plt.savefig('SCT',dpi=600, bbox_inches='tight')\n",
    "plt.show()"
   ]
  },
  {
   "cell_type": "code",
   "execution_count": 16,
   "metadata": {},
   "outputs": [],
   "source": [
    "TransitionWTC[np.where(TransitionWTC == 0)] = np.nan"
   ]
  },
  {
   "cell_type": "code",
   "execution_count": 17,
   "metadata": {},
   "outputs": [],
   "source": [
    "tr_reduced = np.zeros((184,2))\n",
    "for i in range(182):\n",
    "    tr_reduced[i,0] = TransitionWTC[i,0]\n",
    "    tr_reduced[i,1] = TransitionWTC[i,i+1]"
   ]
  },
  {
   "cell_type": "code",
   "execution_count": 18,
   "metadata": {},
   "outputs": [
    {
     "data": {
      "text/plain": [
       "array([[0.71944152, 0.28055848],\n",
       "       [0.22086466, 0.77913534],\n",
       "       [0.17490953, 0.82509047],\n",
       "       [0.15935673, 0.84064327],\n",
       "       [0.12173913, 0.87826087],\n",
       "       [0.13663366, 0.86336634],\n",
       "       [0.11238532, 0.88761468],\n",
       "       [0.09819121, 0.90180879],\n",
       "       [0.09455587, 0.90544413],\n",
       "       [0.10443038, 0.89556962],\n",
       "       [0.07773852, 0.92226148],\n",
       "       [0.08812261, 0.91187739],\n",
       "       [0.04621849, 0.95378151],\n",
       "       [0.0660793 , 0.9339207 ],\n",
       "       [0.06132075, 0.93867925],\n",
       "       [0.05025126, 0.94974874],\n",
       "       [0.05291005, 0.94708995],\n",
       "       [0.04469274, 0.95530726],\n",
       "       [0.08187135, 0.91812865],\n",
       "       [0.04458599, 0.95541401],\n",
       "       [0.04666667, 0.95333333],\n",
       "       [       nan, 1.        ],\n",
       "       [0.05594406, 0.94405594],\n",
       "       [0.04444444, 0.95555556],\n",
       "       [0.03100775, 0.96899225],\n",
       "       [0.016     , 0.984     ],\n",
       "       [0.04065041, 0.95934959],\n",
       "       [0.08474576, 0.91525424],\n",
       "       [0.02777778, 0.97222222],\n",
       "       [0.06666667, 0.93333333],\n",
       "       [0.03061224, 0.96938776],\n",
       "       [0.07368421, 0.92631579],\n",
       "       [0.09090909, 0.90909091],\n",
       "       [0.1       , 0.9       ],\n",
       "       [0.06944444, 0.93055556],\n",
       "       [0.08955224, 0.91044776],\n",
       "       [0.04918033, 0.95081967],\n",
       "       [0.05172414, 0.94827586],\n",
       "       [0.03636364, 0.96363636],\n",
       "       [0.11320755, 0.88679245],\n",
       "       [0.04255319, 0.95744681],\n",
       "       [0.02222222, 0.97777778],\n",
       "       [0.06818182, 0.93181818],\n",
       "       [0.04878049, 0.95121951],\n",
       "       [       nan, 1.        ],\n",
       "       [0.02564103, 0.97435897],\n",
       "       [0.07894737, 0.92105263],\n",
       "       [0.02857143, 0.97142857],\n",
       "       [0.05882353, 0.94117647],\n",
       "       [0.03125   , 0.96875   ],\n",
       "       [0.06451613, 0.93548387],\n",
       "       [       nan, 1.        ],\n",
       "       [0.06896552, 0.93103448],\n",
       "       [0.03703704, 0.96296296],\n",
       "       [0.03846154, 0.96153846],\n",
       "       [0.04      , 0.96      ],\n",
       "       [       nan, 1.        ],\n",
       "       [       nan, 1.        ],\n",
       "       [0.04166667, 0.95833333],\n",
       "       [0.04347826, 0.95652174],\n",
       "       [0.04545455, 0.95454545],\n",
       "       [       nan, 1.        ],\n",
       "       [0.0952381 , 0.9047619 ],\n",
       "       [       nan, 1.        ],\n",
       "       [0.05263158, 0.94736842],\n",
       "       [       nan, 1.        ],\n",
       "       [       nan, 1.        ],\n",
       "       [       nan, 1.        ],\n",
       "       [       nan, 1.        ],\n",
       "       [0.11111111, 0.88888889],\n",
       "       [       nan, 1.        ],\n",
       "       [       nan, 1.        ],\n",
       "       [       nan, 1.        ],\n",
       "       [       nan, 1.        ],\n",
       "       [       nan, 1.        ],\n",
       "       [       nan, 1.        ],\n",
       "       [0.0625    , 0.9375    ],\n",
       "       [       nan, 1.        ],\n",
       "       [       nan, 1.        ],\n",
       "       [       nan, 1.        ],\n",
       "       [0.06666667, 0.93333333],\n",
       "       [       nan, 1.        ],\n",
       "       [       nan, 1.        ],\n",
       "       [       nan, 1.        ],\n",
       "       [0.07142857, 0.92857143],\n",
       "       [0.07692308, 0.92307692],\n",
       "       [0.08333333, 0.91666667],\n",
       "       [       nan, 1.        ],\n",
       "       [       nan, 1.        ],\n",
       "       [0.09090909, 0.90909091],\n",
       "       [       nan, 1.        ],\n",
       "       [       nan, 1.        ],\n",
       "       [0.1       , 0.9       ],\n",
       "       [       nan, 1.        ],\n",
       "       [       nan, 1.        ],\n",
       "       [       nan, 1.        ],\n",
       "       [       nan, 1.        ],\n",
       "       [       nan, 1.        ],\n",
       "       [       nan, 1.        ],\n",
       "       [       nan, 1.        ],\n",
       "       [       nan, 1.        ],\n",
       "       [       nan, 1.        ],\n",
       "       [       nan, 1.        ],\n",
       "       [       nan, 1.        ],\n",
       "       [       nan, 1.        ],\n",
       "       [       nan, 1.        ],\n",
       "       [       nan, 1.        ],\n",
       "       [0.11111111, 0.88888889],\n",
       "       [0.125     , 0.875     ],\n",
       "       [       nan, 1.        ],\n",
       "       [0.14285714, 0.85714286],\n",
       "       [       nan, 1.        ],\n",
       "       [       nan, 1.        ],\n",
       "       [0.16666667, 0.83333333],\n",
       "       [       nan, 1.        ],\n",
       "       [       nan, 1.        ],\n",
       "       [       nan, 1.        ],\n",
       "       [       nan, 1.        ],\n",
       "       [       nan, 1.        ],\n",
       "       [       nan, 1.        ],\n",
       "       [       nan, 1.        ],\n",
       "       [       nan, 1.        ],\n",
       "       [       nan, 1.        ],\n",
       "       [       nan, 1.        ],\n",
       "       [       nan, 1.        ],\n",
       "       [       nan, 1.        ],\n",
       "       [       nan, 1.        ],\n",
       "       [0.2       , 0.8       ],\n",
       "       [       nan, 1.        ],\n",
       "       [       nan, 1.        ],\n",
       "       [       nan, 1.        ],\n",
       "       [       nan, 1.        ],\n",
       "       [       nan, 1.        ],\n",
       "       [       nan, 1.        ],\n",
       "       [       nan, 1.        ],\n",
       "       [       nan, 1.        ],\n",
       "       [       nan, 1.        ],\n",
       "       [       nan, 1.        ],\n",
       "       [       nan, 1.        ],\n",
       "       [       nan, 1.        ],\n",
       "       [       nan, 1.        ],\n",
       "       [       nan, 1.        ],\n",
       "       [0.25      , 0.75      ],\n",
       "       [       nan, 1.        ],\n",
       "       [0.33333333, 0.66666667],\n",
       "       [       nan, 1.        ],\n",
       "       [       nan, 1.        ],\n",
       "       [       nan, 1.        ],\n",
       "       [       nan, 1.        ],\n",
       "       [       nan, 1.        ],\n",
       "       [       nan, 1.        ],\n",
       "       [       nan, 1.        ],\n",
       "       [       nan, 1.        ],\n",
       "       [       nan, 1.        ],\n",
       "       [       nan, 1.        ],\n",
       "       [       nan, 1.        ],\n",
       "       [       nan, 1.        ],\n",
       "       [       nan, 1.        ],\n",
       "       [       nan, 1.        ],\n",
       "       [       nan, 1.        ],\n",
       "       [       nan, 1.        ],\n",
       "       [       nan, 1.        ],\n",
       "       [0.5       , 0.5       ],\n",
       "       [       nan, 1.        ],\n",
       "       [       nan, 1.        ],\n",
       "       [       nan, 1.        ],\n",
       "       [       nan, 1.        ],\n",
       "       [       nan, 1.        ],\n",
       "       [       nan, 1.        ],\n",
       "       [       nan, 1.        ],\n",
       "       [       nan, 1.        ],\n",
       "       [       nan, 1.        ],\n",
       "       [       nan, 1.        ],\n",
       "       [       nan, 1.        ],\n",
       "       [       nan, 1.        ],\n",
       "       [       nan, 1.        ],\n",
       "       [       nan, 1.        ],\n",
       "       [       nan, 1.        ],\n",
       "       [       nan, 1.        ],\n",
       "       [       nan, 1.        ],\n",
       "       [       nan, 1.        ],\n",
       "       [       nan, 1.        ],\n",
       "       [0.        , 0.        ],\n",
       "       [0.        , 0.        ]])"
      ]
     },
     "execution_count": 18,
     "metadata": {},
     "output_type": "execute_result"
    }
   ],
   "source": [
    "tr_reduced"
   ]
  },
  {
   "cell_type": "markdown",
   "metadata": {},
   "source": [
    "# Synthetic TS"
   ]
  },
  {
   "cell_type": "code",
   "execution_count": 72,
   "metadata": {},
   "outputs": [],
   "source": [
    "def generate(tr,n):\n",
    "    elaps = [0] #wlog\n",
    "    fav = []\n",
    "    bad = []\n",
    "    count = 0\n",
    "    for i in range(n):\n",
    "        \n",
    "        act = np.random.choice(2,1,p=tr[elaps[i],:])\n",
    "\n",
    "        if act == 0:\n",
    "            elaps.append(0)\n",
    "            if elaps[i] == 0:\n",
    "                count += 1\n",
    "            else:\n",
    "                fav.append(elaps[i])\n",
    "        else:\n",
    "            elaps.append(elaps[i]+1)\n",
    "            if elaps[i] == 0:\n",
    "                count += 1\n",
    "                bad.append(count)\n",
    "                count = 0\n",
    "    return elaps, fav, bad"
   ]
  },
  {
   "cell_type": "markdown",
   "metadata": {},
   "source": [
    "# Theoretical Distribution"
   ]
  },
  {
   "cell_type": "code",
   "execution_count": 11,
   "metadata": {},
   "outputs": [],
   "source": [
    "def tr2lambda(tr,n,cmax):\n",
    "    P_Enkx = np.zeros((np.int((n+1)/2)+1,cmax))\n",
    "    \n",
    "    for k in tqdm(range(1,cmax+1)):\n",
    "        #parameters\n",
    "        l = np.int((n+1)/(k+1))\n",
    "        omega = list(product(range(l+1),range(cmax+1)))\n",
    "        omega.remove((0,k))\n",
    "        dim = len(omega)\n",
    "        lbd = np.zeros((dim,dim))\n",
    "\n",
    "        #transition probabilities of lambda\n",
    "        for row in range(dim):\n",
    "            x = omega[row][0]\n",
    "            i = omega[row][1]\n",
    "            \n",
    "            if i < k-1 :\n",
    "                lbd[row,omega.index((x, i+1))] = tr[i,1]\n",
    "                lbd[row,omega.index((x, 0))] = tr[i,0]\n",
    "            elif (i == k-1) & (x < l):\n",
    "                lbd[row,omega.index((x+1, k))] = tr[k-1,1]\n",
    "                lbd[row,omega.index((x, 0))] = tr[k-1,0]\n",
    "            elif (i == k) & (i < cmax) & (x > 0) & (x <= l):\n",
    "                lbd[row,omega.index((x-1, k+1))] = tr[k,1]\n",
    "                lbd[row,omega.index((x, 0))] = tr[k,0]\n",
    "            elif (i > k) & (i < cmax):\n",
    "                lbd[row,omega.index((x, i+1))] = tr[i,1]\n",
    "                lbd[row,omega.index((x, 0))] = tr[i,0]\n",
    "            elif i == cmax:\n",
    "                lbd[row,omega.index((x, 0))] = tr[i,0]\n",
    "\n",
    "        #distribution of E_n,k\n",
    "        pi0 = np.zeros(dim)\n",
    "        pi0[0] = 1\n",
    "        \n",
    "        for x in range(l+1):\n",
    "            Ucx = np.array(omega)[:,0] == x\n",
    "            P_Enkx[x,k-1] = pi0.dot(matrix_power(lbd,n)).dot(Ucx)\n",
    "            \n",
    "    return P_Enkx"
   ]
  },
  {
   "cell_type": "code",
   "execution_count": 15,
   "metadata": {},
   "outputs": [
    {
     "name": "stderr",
     "output_type": "stream",
     "text": [
      "100%|██████████████████████████████████████████████████████████████████████████████████| 3/3 [00:00<00:00, 1002.30it/s]\n"
     ]
    }
   ],
   "source": [
    "tr = np.full((4,2),0.5)\n",
    "P = tr2lambda(tr,3,3)"
   ]
  },
  {
   "cell_type": "code",
   "execution_count": 16,
   "metadata": {},
   "outputs": [
    {
     "data": {
      "text/plain": [
       "array([[4., 6., 7.],\n",
       "       [3., 2., 1.],\n",
       "       [1., 0., 0.]])"
      ]
     },
     "execution_count": 16,
     "metadata": {},
     "output_type": "execute_result"
    }
   ],
   "source": [
    "P*8"
   ]
  },
  {
   "cell_type": "code",
   "execution_count": 41,
   "metadata": {},
   "outputs": [
    {
     "name": "stderr",
     "output_type": "stream",
     "text": [
      "100%|████████████████████████████████████████████████████████████████████████████████| 9/9 [3:11:31<00:00, 1276.88s/it]\n"
     ]
    }
   ],
   "source": [
    "P_HVS = tr2lambda(tr_HVS,1000,9)"
   ]
  },
  {
   "cell_type": "code",
   "execution_count": 100,
   "metadata": {},
   "outputs": [],
   "source": [
    "P_HVS = np.load('P_HVS.npy')"
   ]
  },
  {
   "cell_type": "markdown",
   "metadata": {},
   "source": [
    "# Highly Variable Seas"
   ]
  },
  {
   "cell_type": "code",
   "execution_count": 9,
   "metadata": {},
   "outputs": [],
   "source": [
    "tr_HVS = np.full((15,2),0.5)\n",
    "tr_HVS[-1,:] = [1,0]"
   ]
  },
  {
   "cell_type": "code",
   "execution_count": 10,
   "metadata": {},
   "outputs": [
    {
     "data": {
      "text/plain": [
       "array([[0.5, 0.5],\n",
       "       [0.5, 0.5],\n",
       "       [0.5, 0.5],\n",
       "       [0.5, 0.5],\n",
       "       [0.5, 0.5],\n",
       "       [0.5, 0.5],\n",
       "       [0.5, 0.5],\n",
       "       [0.5, 0.5],\n",
       "       [0.5, 0.5],\n",
       "       [0.5, 0.5],\n",
       "       [0.5, 0.5],\n",
       "       [0.5, 0.5],\n",
       "       [0.5, 0.5],\n",
       "       [0.5, 0.5],\n",
       "       [1. , 0. ]])"
      ]
     },
     "execution_count": 10,
     "metadata": {},
     "output_type": "execute_result"
    }
   ],
   "source": [
    "tr_HVS"
   ]
  },
  {
   "cell_type": "code",
   "execution_count": 50,
   "metadata": {},
   "outputs": [],
   "source": [
    "#elaps_HVS, fav_HVS, bad_HVS = generate(tr_HVS,1000000-1)\n",
    "elaps_HVS, fav_HVS, bad_HVS = generate(tr_HVS,200)"
   ]
  },
  {
   "cell_type": "code",
   "execution_count": 53,
   "metadata": {},
   "outputs": [
    {
     "data": {
      "image/png": "[encoded data removed]",
      "text/plain": [
       "<Figure size 590.4x100.8 with 1 Axes>"
      ]
     },
     "metadata": {
      "needs_background": "light"
     },
     "output_type": "display_data"
    }
   ],
   "source": [
    "ax = plt.figure(figsize=(8.2,1.4)).add_subplot(111)\n",
    "ax.plot(elaps_HVS[:200],'k',label='HVS',lw=1)\n",
    "plt.tick_params(\n",
    "    axis='x',          # changes apply to the x-axis\n",
    "    which='both',      # both major and minor ticks are affected\n",
    "    bottom=False,      # ticks along the bottom edge are off\n",
    "    top=False,         # ticks along the top edge are off\n",
    "    labelbottom=False) # labels along the bottom edge are off\n",
    "plt.ylabel('x')\n",
    "plt.legend()\n",
    "plt.savefig('HVS',dpi=600, bbox_inches='tight')\n",
    "plt.show()"
   ]
  },
  {
   "cell_type": "code",
   "execution_count": 111,
   "metadata": {},
   "outputs": [],
   "source": [
    "ts_HVS = []\n",
    "for i in range(200):\n",
    "    if elaps_HVS[i] > 0 :\n",
    "        ts_HVS.append(np.random.rand(1)+5)\n",
    "    else:\n",
    "        ts_HVS.append(np.random.rand(1)+4)"
   ]
  },
  {
   "cell_type": "code",
   "execution_count": 112,
   "metadata": {},
   "outputs": [
    {
     "data": {
      "image/png": "[encoded data removed]",
      "text/plain": [
       "<Figure size 115.2x43.2 with 1 Axes>"
      ]
     },
     "metadata": {},
     "output_type": "display_data"
    }
   ],
   "source": [
    "ax = plt.figure(figsize=(1.6,0.6)).add_subplot(111)\n",
    "ax.plot(ts_HVS,'k')\n",
    "ax.plot([0,200],[5,5],'r--')\n",
    "plt.tick_params(axis='x',which='both',bottom=False,labelbottom=False)\n",
    "plt.tick_params(axis='y',which='both',left=False,labelleft=False) \n",
    "plt.show()"
   ]
  },
  {
   "cell_type": "code",
   "execution_count": 26,
   "metadata": {},
   "outputs": [],
   "source": [
    "data = choice(P_HVS.shape[0],1000,p=P_HVS[:,0]).reshape(-1,1)\n",
    "for i in range(1,7):\n",
    "    data = np.append(data,choice(P_HVS.shape[0],1000,p=P_HVS[:,i]).reshape(-1,1),axis=1)\n",
    "data = np.append(data,np.zeros(1000).reshape(-1,1),axis=1)"
   ]
  },
  {
   "cell_type": "code",
   "execution_count": 115,
   "metadata": {},
   "outputs": [
    {
     "data": {
      "text/plain": [
       "array([1, 2, 3, 4, 5, 6, 7, 8, 9])"
      ]
     },
     "execution_count": 115,
     "metadata": {},
     "output_type": "execute_result"
    }
   ],
   "source": [
    "np.arange(1,10)"
   ]
  },
  {
   "cell_type": "code",
   "execution_count": 249,
   "metadata": {},
   "outputs": [
    {
     "data": {
      "image/png": "[encoded data removed]",
      "text/plain": [
       "<Figure size 576x324 with 2 Axes>"
      ]
     },
     "metadata": {
      "needs_background": "light"
     },
     "output_type": "display_data"
    }
   ],
   "source": [
    "fig, ax = plt.subplots(1, 2, figsize=(8,4.5))\n",
    "ax[0].hist(fav_HVS, rwidth=0.85, align = 'left',label='HVS_fav',edgecolor='C0',\n",
    "           fc=(0.12156862745098039, 0.4666666666666667, 0.7058823529411765, 0.25),density=True,lw=1)\n",
    "ax[0].hist(fav_VSS, rwidth=0.85, align = 'left',label='VSS_fav',edgecolor='C1',\n",
    "           fc=(1.0, 0.4980392156862745, 0.054901960784313725, 0.25),density=True,lw=1)\n",
    "ax[0].hist(fav_GCS, rwidth=0.85, align = 'left',label='GCS_fav',edgecolor='C2',\n",
    "           fc=(0.17254901960784313, 0.6274509803921569, 0.17254901960784313, 0.25),density=True,lw=1)\n",
    "ax[0].hist(fav_scotland, rwidth=0.85, align = 'left',label='SCT_fav',edgecolor='C3',\n",
    "           fc=(0.8392156862745098, 0.15294117647058825, 0.1568627450980392, 0.25),density=True,lw=1)\n",
    "ax[0].set_xlabel('size of favorable weather window')\n",
    "ax[0].set_ylabel('density')\n",
    "ax[0].set_xlim(right=55)\n",
    "ax[0].legend()\n",
    "\n",
    "ax[1].hist(bad_HVS, rwidth=0.85, align = 'left',label='HVS_bad',edgecolor='C0',\n",
    "           fc=(0.12156862745098039, 0.4666666666666667, 0.7058823529411765, 0.25),density=True,lw=1)\n",
    "ax[1].hist(bad_VSS, rwidth=0.85, align = 'left',label='VSS_bad',edgecolor='C1',\n",
    "           fc=(1.0, 0.4980392156862745, 0.054901960784313725, 0.25),density=True,lw=1)\n",
    "ax[1].hist(bad_GCS, rwidth=0.85, align = 'left',label='GCS_bad',edgecolor='C2',\n",
    "           fc=(0.17254901960784313, 0.6274509803921569, 0.17254901960784313, 0.25),density=True,lw=1)\n",
    "ax[1].hist(bad_scotland, rwidth=0.85, align = 'left',label='SCT_bad',edgecolor='C3',\n",
    "           fc=(0.8392156862745098, 0.15294117647058825, 0.1568627450980392, 0.25),density=True,lw=1)\n",
    "ax[1].set_xlabel('size of bad weather window')\n",
    "ax[1].set_xlim(right=55)\n",
    "ax[1].legend()\n",
    "#plt.savefig('density',dpi=600, bbox_inches='tight')\n",
    "plt.show()"
   ]
  },
  {
   "cell_type": "code",
   "execution_count": 104,
   "metadata": {},
   "outputs": [
    {
     "data": {
      "image/png": "[encoded data removed]",
      "text/plain": [
       "<Figure size 648x288 with 2 Axes>"
      ]
     },
     "metadata": {
      "needs_background": "light"
     },
     "output_type": "display_data"
    },
    {
     "name": "stdout",
     "output_type": "stream",
     "text": [
      "mean: 2.1757322175732217\n",
      "std: 1.5342931356818756\n"
     ]
    },
    {
     "data": {
      "image/png": "[encoded data removed]",
      "text/plain": [
       "<Figure size 432x288 with 1 Axes>"
      ]
     },
     "metadata": {
      "needs_background": "light"
     },
     "output_type": "display_data"
    },
    {
     "name": "stdout",
     "output_type": "stream",
     "text": [
      "mean: 1.9875\n",
      "std: 1.379858839398678\n"
     ]
    }
   ],
   "source": [
    "fig, ax = plt.subplots(1, 2, figsize=(9,4))\n",
    "fig.suptitle('Highly Variable Seas')\n",
    "n, bins, patches = ax[0].hist(fav_HVS,bins=range(1,10), rwidth=0.85, align = 'left')\n",
    "ax[0].set_xlabel('favorable window')\n",
    "ax[0].set_xticks(range(1,10))\n",
    "\n",
    "ax[1].violinplot(data)\n",
    "ax[1].plot(range(1,9),n,'rx',label='generated')\n",
    "ax[1].set_xticks(range(1,10))\n",
    "ax[1].set_xlabel('favorable window')\n",
    "ax[1].legend()\n",
    "plt.show()\n",
    "print('mean:',np.mean(fav_HVS))\n",
    "print('std:',np.std(fav_HVS))\n",
    "\n",
    "plt.hist(bad_HVS, rwidth=0.85)\n",
    "plt.title('Highly Variable Seas')\n",
    "plt.xlabel('unfavorable window')\n",
    "plt.show()\n",
    "print('mean:',np.mean(bad_HVS))\n",
    "print('std:',np.std(bad_HVS))"
   ]
  },
  {
   "cell_type": "markdown",
   "metadata": {},
   "source": [
    "# Very Stormy Seasons\n",
    "# low frequency"
   ]
  },
  {
   "cell_type": "code",
   "execution_count": 11,
   "metadata": {},
   "outputs": [],
   "source": [
    "tr_VSS = np.zeros([51,2])\n",
    "tr_VSS[0] = [0.9,0.1]\n",
    "tr_VSS[-1] = [1,0]\n",
    "for i in range(1,50):\n",
    "    tr_VSS[i] = [0.05,0.95]"
   ]
  },
  {
   "cell_type": "code",
   "execution_count": 54,
   "metadata": {},
   "outputs": [],
   "source": [
    "#elaps_VSS, fav_VSS, bad_VSS = generate(tr_VSS,1000000-1)\n",
    "elaps_VSS, fav_VSS, bad_VSS = generate(tr_VSS,200)"
   ]
  },
  {
   "cell_type": "code",
   "execution_count": 57,
   "metadata": {},
   "outputs": [
    {
     "data": {
      "image/png": "[encoded data removed]",
      "text/plain": [
       "<Figure size 590.4x100.8 with 1 Axes>"
      ]
     },
     "metadata": {
      "needs_background": "light"
     },
     "output_type": "display_data"
    }
   ],
   "source": [
    "ax = plt.figure(figsize=(8.2,1.4)).add_subplot(111)\n",
    "ax.plot(elaps_VSS[:200],'k',label='VSS',lw=1)\n",
    "plt.tick_params(\n",
    "    axis='x',          # changes apply to the x-axis\n",
    "    which='both',      # both major and minor ticks are affected\n",
    "    bottom=False,      # ticks along the bottom edge are off\n",
    "    top=False,         # ticks along the top edge are off\n",
    "    labelbottom=False) # labels along the bottom edge are off\n",
    "plt.ylabel('x')\n",
    "plt.legend()\n",
    "plt.savefig('VSS',dpi=600, bbox_inches='tight')\n",
    "plt.show()"
   ]
  },
  {
   "cell_type": "code",
   "execution_count": 118,
   "metadata": {},
   "outputs": [
    {
     "data": {
      "image/png": "[encoded data removed]",
      "text/plain": [
       "<Figure size 115.2x43.2 with 1 Axes>"
      ]
     },
     "metadata": {},
     "output_type": "display_data"
    }
   ],
   "source": [
    "ts_VSS = []\n",
    "for i in range(200):\n",
    "    if elaps_VSS[i] > 0 :\n",
    "        ts_VSS.append(np.random.rand(1)+5)\n",
    "    else:\n",
    "        ts_VSS.append(np.random.rand(1)+4)\n",
    "        \n",
    "ax = plt.figure(figsize=(1.6,0.6)).add_subplot(111)\n",
    "ax.plot(ts_VSS,'k')\n",
    "ax.plot([0,200],[5,5],'r--')\n",
    "plt.tick_params(axis='x',which='both',bottom=False,labelbottom=False)\n",
    "plt.tick_params(axis='y',which='both',left=False,labelleft=False) \n",
    "plt.show()"
   ]
  },
  {
   "cell_type": "markdown",
   "metadata": {},
   "source": [
    "#  Generally Calm Seas"
   ]
  },
  {
   "cell_type": "code",
   "execution_count": 19,
   "metadata": {},
   "outputs": [],
   "source": [
    "tr_GCS = tr_reduced[:51].copy()\n",
    "tr_GCS[21] = (tr_GCS[20] + tr_GCS[22])/2\n",
    "tr_GCS[44] = (tr_GCS[43] + tr_GCS[45])/2\n",
    "tr_GCS[-1] = [1,0]"
   ]
  },
  {
   "cell_type": "code",
   "execution_count": 58,
   "metadata": {},
   "outputs": [],
   "source": [
    "#elaps_GCS, fav_GCS, bad_GCS = generate(tr_GCS,1000000-1)\n",
    "elaps_GCS, fav_GCS, bad_GCS = generate(tr_GCS,200)"
   ]
  },
  {
   "cell_type": "code",
   "execution_count": 61,
   "metadata": {},
   "outputs": [
    {
     "data": {
      "image/png": "[encoded data removed]",
      "text/plain": [
       "<Figure size 590.4x100.8 with 1 Axes>"
      ]
     },
     "metadata": {
      "needs_background": "light"
     },
     "output_type": "display_data"
    }
   ],
   "source": [
    "ax = plt.figure(figsize=(8.2,1.4)).add_subplot(111)\n",
    "ax.plot(elaps_GCS[:200],'k',label='GCS',lw=1)\n",
    "plt.tick_params(\n",
    "    axis='x',          # changes apply to the x-axis\n",
    "    which='both',      # both major and minor ticks are affected\n",
    "    bottom=False,      # ticks along the bottom edge are off\n",
    "    top=False,         # ticks along the top edge are off\n",
    "    labelbottom=False) # labels along the bottom edge are off\n",
    "plt.ylabel('x')\n",
    "plt.legend()\n",
    "plt.savefig('GCS',dpi=600, bbox_inches='tight')\n",
    "plt.show()"
   ]
  },
  {
   "cell_type": "code",
   "execution_count": 130,
   "metadata": {},
   "outputs": [
    {
     "data": {
      "image/png": "[encoded data removed]",
      "text/plain": [
       "<Figure size 115.2x43.2 with 1 Axes>"
      ]
     },
     "metadata": {},
     "output_type": "display_data"
    }
   ],
   "source": [
    "ts_GCS = []\n",
    "for i in range(200):\n",
    "    if elaps_GCS[i] > 0 :\n",
    "        ts_GCS.append(np.random.rand(1)+5)\n",
    "    else:\n",
    "        ts_GCS.append(np.random.rand(1)+4)\n",
    "        \n",
    "ax = plt.figure(figsize=(1.6,0.6)).add_subplot(111)\n",
    "ax.plot(ts_GCS,'k')\n",
    "ax.plot([0,200],[5,5],'r--')\n",
    "plt.tick_params(axis='x',which='both',bottom=False,labelbottom=False)\n",
    "plt.tick_params(axis='y',which='both',left=False,labelleft=False) \n",
    "plt.show()"
   ]
  },
  {
   "cell_type": "markdown",
   "metadata": {},
   "source": [
    "# MDP solver"
   ]
  },
  {
   "cell_type": "code",
   "execution_count": 20,
   "metadata": {},
   "outputs": [],
   "source": [
    "def MDPsolver(elaps, wmax, dmax, n = 4, t_aux = 0, c_down = -1.5, c_fail = -1, discount = 0.95):\n",
    "    #Intermediate transition matrix\n",
    "    CmfWTC = np.zeros(shape=(wmax+1,wmax+1), dtype=int)\n",
    "    CmfWTC_n = np.zeros(shape=(wmax+1,wmax+1), dtype=int)\n",
    "    \n",
    "    for i in range(1,len(elaps)):\n",
    "        if (elaps[i-1] <= wmax) & (elaps[i] <= wmax):\n",
    "            CmfWTC[elaps[i-1],elaps[i]] += 1\n",
    "        elif (elaps[i-1] == wmax) & (elaps[i] == wmax+1):\n",
    "            CmfWTC[elaps[i-1],elaps[i-1]] += 1\n",
    "    for i in range(n,len(elaps)):\n",
    "        if (elaps[i-n] <= wmax) & (elaps[i] <= wmax):\n",
    "            CmfWTC_n[elaps[i-n],elaps[i]] += 1\n",
    "        elif (elaps[i-n] == wmax) & (elaps[i] == wmax+n):\n",
    "            CmfWTC_n[elaps[i-n],elaps[i-n]] += 1\n",
    "    \n",
    "    TrWTC = np.divide(CmfWTC,np.sum(CmfWTC,1)[:,None])\n",
    "    TrWTC_n = np.divide(CmfWTC_n,np.sum(CmfWTC_n,1)[:,None])\n",
    "    \n",
    "    #Downtime range 0 - dmax\n",
    "    P = np.zeros((2,(wmax+1)*(dmax+1),(wmax+1)*(dmax+1)))\n",
    "    R = np.zeros((2,(wmax+1)*(dmax+1),(wmax+1)*(dmax+1)))\n",
    "    \n",
    "    # Action 0 : Stay\n",
    "    for i in range(dmax+1):\n",
    "        if (i+1) <= dmax:\n",
    "            P[0,(wmax+1)*i:(wmax+1)*(i+1),(wmax+1)*(i+1):(wmax+1)*(i+2)] = TrWTC\n",
    "            R[0,(wmax+1)*i:(wmax+1)*(i+1),(wmax+1)*(i+1):(wmax+1)*(i+2)] = c_down\n",
    "        else:\n",
    "            P[0,(wmax+1)*i:(wmax+1)*(i+1),(wmax+1)*dmax:(wmax+1)*(dmax+1)] = TrWTC\n",
    "            R[0,(wmax+1)*i:(wmax+1)*(i+1),(wmax+1)*dmax:(wmax+1)*(dmax+1)] = c_down\n",
    "\n",
    "    #Action 1 : Go\n",
    "    for i in range(dmax+1):\n",
    "        P[1,(wmax+1)*i:(wmax+1)*(i+1),n:(wmax+1)] = TrWTC_n[:,n:(wmax+1)]\n",
    "\n",
    "        if (i + n) <= dmax:\n",
    "            P[1,(wmax+1)*i:(wmax+1)*(i+1),(wmax+1)*(i+n):(wmax+1)*(i+n)+n] = TrWTC_n[:,:n]\n",
    "            R[1,(wmax+1)*i:(wmax+1)*(i+1),(wmax+1)*(i+n):(wmax+1)*(i+n)+n] = n*c_down+c_fail\n",
    "        else:\n",
    "            P[1,(wmax+1)*i:(wmax+1)*(i+1),(wmax+1)*dmax:(wmax+1)*dmax+n] = TrWTC_n[:,:n]\n",
    "            R[1,(wmax+1)*i:(wmax+1)*(i+1),(wmax+1)*dmax:(wmax+1)*dmax+n] = n*c_down+c_fail\n",
    "    \n",
    "    mdptoolbox.util.check(P, R)\n",
    "    \n",
    "    vi = mdptoolbox.mdp.ValueIteration([P[0],P[1]],[R[0],R[1]],discount)\n",
    "    vi.run()\n",
    "    policy = np.array(vi.policy)\n",
    "    policy = policy.reshape((dmax+1,wmax+1))\n",
    "    print('Solution')\n",
    "    print(policy)\n",
    "    print(vi.iter)\n",
    "    \n",
    "    return policy"
   ]
  },
  {
   "cell_type": "code",
   "execution_count": 81,
   "metadata": {},
   "outputs": [],
   "source": [
    "def MDPsolver_true(tr, wmax, dmax, n = 4, t_aux = 0, c_down = -1.5, c_fail = -1, discount = 0.95):\n",
    "    #Intermediate transition matrix\n",
    "    TrWTC = np.zeros(shape=(wmax+1,wmax+1))\n",
    "    \n",
    "    for i in range(wmax):\n",
    "        TrWTC[i,0] = tr[i,0]\n",
    "        TrWTC[i,i+1] = tr[i,1]\n",
    "    TrWTC[wmax,0] = tr[wmax,0]\n",
    "    TrWTC[wmax,wmax] = tr[wmax,1]\n",
    "    \n",
    "    TrWTC_n = np.linalg.matrix_power(TrWTC,n)\n",
    "    \n",
    "    #Downtime range 0 - dmax\n",
    "    P = np.zeros((2,(wmax+1)*(dmax+1),(wmax+1)*(dmax+1)))\n",
    "    R = np.zeros((2,(wmax+1)*(dmax+1),(wmax+1)*(dmax+1)))\n",
    "    \n",
    "    # Action 0 : Stay\n",
    "    for i in range(dmax+1):\n",
    "        if (i+1) <= dmax:\n",
    "            P[0,(wmax+1)*i:(wmax+1)*(i+1),(wmax+1)*(i+1):(wmax+1)*(i+2)] = TrWTC\n",
    "            R[0,(wmax+1)*i:(wmax+1)*(i+1),(wmax+1)*(i+1):(wmax+1)*(i+2)] = c_down\n",
    "        else:\n",
    "            P[0,(wmax+1)*i:(wmax+1)*(i+1),(wmax+1)*dmax:(wmax+1)*(dmax+1)] = TrWTC\n",
    "            R[0,(wmax+1)*i:(wmax+1)*(i+1),(wmax+1)*dmax:(wmax+1)*(dmax+1)] = c_down\n",
    "\n",
    "    #Action 1 : Go\n",
    "    for i in range(dmax+1):\n",
    "        P[1,(wmax+1)*i:(wmax+1)*(i+1),n:(wmax+1)] = TrWTC_n[:,n:(wmax+1)]\n",
    "\n",
    "        if (i + n) <= dmax:\n",
    "            P[1,(wmax+1)*i:(wmax+1)*(i+1),(wmax+1)*(i+n):(wmax+1)*(i+n)+n] = TrWTC_n[:,:n]\n",
    "            R[1,(wmax+1)*i:(wmax+1)*(i+1),(wmax+1)*(i+n):(wmax+1)*(i+n)+n] = n*c_down+c_fail\n",
    "        else:\n",
    "            P[1,(wmax+1)*i:(wmax+1)*(i+1),(wmax+1)*dmax:(wmax+1)*dmax+n] = TrWTC_n[:,:n]\n",
    "            R[1,(wmax+1)*i:(wmax+1)*(i+1),(wmax+1)*dmax:(wmax+1)*dmax+n] = n*c_down+c_fail\n",
    "    \n",
    "    mdptoolbox.util.check(P, R)\n",
    "    \n",
    "    vi = mdptoolbox.mdp.ValueIteration([P[0],P[1]],[R[0],R[1]],discount)\n",
    "    vi.run()\n",
    "    policy = np.array(vi.policy)\n",
    "    policy = policy.reshape((dmax+1,wmax+1))\n",
    "    print('Solution')\n",
    "    print(policy)\n",
    "    print(vi.iter)\n",
    "    \n",
    "    return policy"
   ]
  },
  {
   "cell_type": "code",
   "execution_count": 93,
   "metadata": {},
   "outputs": [
    {
     "data": {
      "text/plain": [
       "14595"
      ]
     },
     "execution_count": 93,
     "metadata": {},
     "output_type": "execute_result"
    }
   ],
   "source": [
    "len(elaps)"
   ]
  },
  {
   "cell_type": "code",
   "execution_count": 84,
   "metadata": {},
   "outputs": [],
   "source": [
    "elaps_HVS, fav_HVS, bad_HVS = generate(tr_HVS,1000000-1)\n",
    "#elaps_VSS, fav_VSS, bad_VSS = generate(tr_VSS,1000000-1)\n",
    "#elaps_GCS, fac_GCS, bad_GCS = generate(tr_GCS,1000000-1)\n",
    "np.save('elaps_HVS',elaps_HVS)\n",
    "#np.save('elaps_VSS',elaps_VSS)\n",
    "#np.save('elaps_GCS',elaps_GCS)"
   ]
  },
  {
   "cell_type": "code",
   "execution_count": 21,
   "metadata": {},
   "outputs": [],
   "source": [
    "elaps_HVS = np.load('elaps_HVS.npy')\n",
    "elaps_VSS = np.load('elaps_VSS.npy')\n",
    "elaps_GCS = np.load('elaps_GCS.npy')"
   ]
  },
  {
   "cell_type": "markdown",
   "metadata": {},
   "source": [
    "# n = 3"
   ]
  },
  {
   "cell_type": "code",
   "execution_count": 82,
   "metadata": {},
   "outputs": [
    {
     "name": "stdout",
     "output_type": "stream",
     "text": [
      "WARNING: check conditions of convergence. With no discount, convergence can not be assumed.\n",
      "Solution\n",
      "[[0 0 0 0 0 0 0 0 0 0]]\n",
      "1\n"
     ]
    }
   ],
   "source": [
    "policy_HVS_true = MDPsolver_true(tr_HVS, 9, 0, n = 3, t_aux = 0, c_down = -2, c_fail = -1, discount=1)"
   ]
  },
  {
   "cell_type": "code",
   "execution_count": 83,
   "metadata": {},
   "outputs": [
    {
     "name": "stdout",
     "output_type": "stream",
     "text": [
      "WARNING: check conditions of convergence. With no discount, convergence can not be assumed.\n",
      "Solution\n",
      "[[0 0 0 0 0 0 0 0 0 0]]\n",
      "1\n"
     ]
    }
   ],
   "source": [
    "policy_HVS = MDPsolver(elaps_HVS, 9, 0, n = 3, t_aux = 0, c_down = -2, c_fail = -1, discount=1)"
   ]
  },
  {
   "cell_type": "code",
   "execution_count": 149,
   "metadata": {},
   "outputs": [
    {
     "data": {
      "image/png": "[encoded data removed]",
      "text/plain": [
       "<Figure size 720x72 with 1 Axes>"
      ]
     },
     "metadata": {
      "needs_background": "light"
     },
     "output_type": "display_data"
    }
   ],
   "source": [
    "policy = policy_HVS \n",
    "filename='HVS_policy1'\n",
    "fig, ax =plt.subplots(1,figsize=(10,1))\n",
    "ax.get_yaxis().set_visible(False)\n",
    "ax.set_xlim([0,policy.shape[1]])\n",
    "ax.set_xticks(np.arange(10)+0.5)\n",
    "ax.set_xticklabels(range(10))\n",
    "for x in range(policy.shape[1]):\n",
    "    if policy[0,x] == 0:\n",
    "        rect = Rectangle((x, 0), 1, 1, facecolor='red', edgecolor='white')\n",
    "        ax.add_patch(rect)\n",
    "    else:\n",
    "        rect = Rectangle((x, 0), 1, 1, facecolor='green', edgecolor='white')\n",
    "        ax.add_patch(rect)\n",
    "if filename is not None:\n",
    "    plt.savefig(filename,dpi=600, bbox_inches='tight')\n",
    "plt.show()"
   ]
  },
  {
   "cell_type": "code",
   "execution_count": 85,
   "metadata": {},
   "outputs": [
    {
     "name": "stdout",
     "output_type": "stream",
     "text": [
      "Solution\n",
      "[[0 1 1 1 1 1 1 1 1 1 1 1 1 1 1 1 1 1 1 1 1 1 1 1 1 1 1 1 1 1 1 1 1 1 1 1\n",
      "  1 1 1 1 1 1 1 1 1 1 1 1 0 0 0]]\n",
      "34\n"
     ]
    }
   ],
   "source": [
    "policy_VSS_true = MDPsolver_true(tr_VSS, 50, 0, n = 3, t_aux = 0, c_down = -2, c_fail = -1)"
   ]
  },
  {
   "cell_type": "code",
   "execution_count": 86,
   "metadata": {},
   "outputs": [
    {
     "name": "stdout",
     "output_type": "stream",
     "text": [
      "Solution\n",
      "[[0 1 1 1 1 1 1 1 1 1 1 1 1 1 1 1 1 1 1 1 1 1 1 1 1 1 1 1 1 1 1 1 1 1 1 1\n",
      "  1 1 1 1 1 1 1 1 1 1 1 1 0 0 0]]\n",
      "34\n"
     ]
    }
   ],
   "source": [
    "policy_VSS = MDPsolver(elaps_VSS, 50, 0, n = 3, t_aux = 0, c_down = -2, c_fail = -1)"
   ]
  },
  {
   "cell_type": "code",
   "execution_count": 151,
   "metadata": {},
   "outputs": [
    {
     "data": {
      "image/png": "[encoded data removed]",
      "text/plain": [
       "<Figure size 720x72 with 1 Axes>"
      ]
     },
     "metadata": {
      "needs_background": "light"
     },
     "output_type": "display_data"
    }
   ],
   "source": [
    "policy = policy_VSS \n",
    "filename='VSS_policy1'\n",
    "fig, ax =plt.subplots(1,figsize=(10,1))\n",
    "ax.get_yaxis().set_visible(False)\n",
    "ax.set_xlim([0,30])\n",
    "ax.set_xticks(np.arange(0,30,5)+0.5)\n",
    "ax.set_xticklabels(np.arange(0,30,5))\n",
    "for x in range(30):\n",
    "    if policy[0,x] == 0:\n",
    "        rect = Rectangle((x, 0), 1, 1, facecolor='red', edgecolor='white')\n",
    "        ax.add_patch(rect)\n",
    "    else:\n",
    "        rect = Rectangle((x, 0), 1, 1, facecolor='green', edgecolor='white')\n",
    "        ax.add_patch(rect)\n",
    "if filename is not None:\n",
    "    plt.savefig(filename,dpi=600, bbox_inches='tight')\n",
    "plt.show()"
   ]
  },
  {
   "cell_type": "code",
   "execution_count": 87,
   "metadata": {},
   "outputs": [
    {
     "name": "stdout",
     "output_type": "stream",
     "text": [
      "Solution\n",
      "[[0 0 0 0 0 0 1 1 1 1 1 1 1 1 1 1 1 1 1 1 1 1 1 1 1 1 1 1 1 1 1 1 1 1 1 1\n",
      "  1 1 1 0 1 1 1 1 1 1 0 1 0 0 0]]\n",
      "35\n"
     ]
    }
   ],
   "source": [
    "policy_GCS_true = MDPsolver_true(tr_GCS, 50, 0, n = 3, t_aux = 0, c_down = -2, c_fail = -1)"
   ]
  },
  {
   "cell_type": "code",
   "execution_count": 88,
   "metadata": {},
   "outputs": [
    {
     "name": "stdout",
     "output_type": "stream",
     "text": [
      "Solution\n",
      "[[0 0 0 0 0 0 1 1 1 1 1 1 1 1 1 1 1 1 1 1 1 1 1 1 1 1 1 1 1 1 1 1 1 1 1 1\n",
      "  1 1 1 0 1 1 1 1 1 1 0 1 0 0 0]]\n",
      "35\n"
     ]
    }
   ],
   "source": [
    "policy_GCS = MDPsolver(elaps_GCS, 50, 0, n = 3, t_aux = 0, c_down = -2, c_fail = -1)"
   ]
  },
  {
   "cell_type": "code",
   "execution_count": 153,
   "metadata": {},
   "outputs": [
    {
     "data": {
      "image/png": "[encoded data removed]",
      "text/plain": [
       "<Figure size 720x72 with 1 Axes>"
      ]
     },
     "metadata": {
      "needs_background": "light"
     },
     "output_type": "display_data"
    }
   ],
   "source": [
    "policy = policy_GCS \n",
    "filename='GCS_policy1'\n",
    "fig, ax =plt.subplots(1,figsize=(10,1))\n",
    "ax.get_yaxis().set_visible(False)\n",
    "ax.set_xlim([0,30])\n",
    "ax.set_xticks(np.arange(0,30,5)+0.5)\n",
    "ax.set_xticklabels(np.arange(0,30,5))\n",
    "for x in range(30):\n",
    "    if policy[0,x] == 0:\n",
    "        rect = Rectangle((x, 0), 1, 1, facecolor='red', edgecolor='white')\n",
    "        ax.add_patch(rect)\n",
    "    else:\n",
    "        rect = Rectangle((x, 0), 1, 1, facecolor='green', edgecolor='white')\n",
    "        ax.add_patch(rect)\n",
    "if filename is not None:\n",
    "    plt.savefig(filename,dpi=600, bbox_inches='tight')\n",
    "plt.show()"
   ]
  },
  {
   "cell_type": "code",
   "execution_count": 89,
   "metadata": {},
   "outputs": [
    {
     "name": "stdout",
     "output_type": "stream",
     "text": [
      "Solution\n",
      "[[0 0 0 0 0 1 1 1 1 1 1 1 1 1 1 1 1 1 1 1 1 1 1 1 1 1 1 1 1 1 1 1 1 1 1 1\n",
      "  1 1 1 0 1 1 1 1 1 1 0 1 0 0 1]]\n",
      "34\n"
     ]
    }
   ],
   "source": [
    "policy_SCT = MDPsolver(elaps, 50, 0, n = 3, t_aux = 0, c_down = -2, c_fail = -1)"
   ]
  },
  {
   "cell_type": "code",
   "execution_count": 155,
   "metadata": {},
   "outputs": [
    {
     "data": {
      "image/png": "[encoded data removed]",
      "text/plain": [
       "<Figure size 720x72 with 1 Axes>"
      ]
     },
     "metadata": {
      "needs_background": "light"
     },
     "output_type": "display_data"
    }
   ],
   "source": [
    "policy = policy_SCT \n",
    "filename='SCT_policy1'\n",
    "fig, ax =plt.subplots(1,figsize=(10,1))\n",
    "ax.get_yaxis().set_visible(False)\n",
    "ax.set_xlim([0,30])\n",
    "ax.set_xticks(np.arange(0,30,5)+0.5)\n",
    "ax.set_xticklabels(np.arange(0,30,5))\n",
    "ax.set_xlabel('favorable time')\n",
    "for x in range(30):\n",
    "    if policy[0,x] == 0:\n",
    "        rect = Rectangle((x, 0), 1, 1, facecolor='red', edgecolor='white')\n",
    "        ax.add_patch(rect)\n",
    "    else:\n",
    "        rect = Rectangle((x, 0), 1, 1, facecolor='green', edgecolor='white')\n",
    "        ax.add_patch(rect)\n",
    "if filename is not None:\n",
    "    plt.savefig(filename,dpi=600, bbox_inches='tight')\n",
    "plt.show()"
   ]
  },
  {
   "cell_type": "markdown",
   "metadata": {},
   "source": [
    "# n=1"
   ]
  },
  {
   "cell_type": "code",
   "execution_count": 90,
   "metadata": {},
   "outputs": [
    {
     "name": "stdout",
     "output_type": "stream",
     "text": [
      "WARNING: check conditions of convergence. With no discount, convergence can not be assumed.\n",
      "Solution\n",
      "[[1 1 1 1 1 1 1 1 1 1]]\n",
      "1\n"
     ]
    }
   ],
   "source": [
    "policy_HVS_true = MDPsolver_true(tr_HVS, 9, 0, n = 1, t_aux = 0, c_down = -2, c_fail = -1, discount=1)"
   ]
  },
  {
   "cell_type": "code",
   "execution_count": 91,
   "metadata": {},
   "outputs": [
    {
     "name": "stdout",
     "output_type": "stream",
     "text": [
      "WARNING: check conditions of convergence. With no discount, convergence can not be assumed.\n",
      "Solution\n",
      "[[1 1 1 1 1 1 1 1 1 1]]\n",
      "4\n"
     ]
    }
   ],
   "source": [
    "policy_HVS = MDPsolver(elaps_HVS, 9, 0, n = 1, t_aux = 0, c_down = -2, c_fail = -1, discount=1)"
   ]
  },
  {
   "cell_type": "code",
   "execution_count": 92,
   "metadata": {},
   "outputs": [
    {
     "data": {
      "image/png": "[encoded data removed]",
      "text/plain": [
       "<Figure size 720x72 with 1 Axes>"
      ]
     },
     "metadata": {
      "needs_background": "light"
     },
     "output_type": "display_data"
    }
   ],
   "source": [
    "policy = policy_HVS \n",
    "filename='HVS_policy2'\n",
    "fig, ax =plt.subplots(1,figsize=(10,1))\n",
    "ax.get_yaxis().set_visible(False)\n",
    "ax.set_xlim([0,policy.shape[1]])\n",
    "ax.set_xticks(np.arange(10)+0.5)\n",
    "ax.set_xticklabels(range(10))\n",
    "for x in range(policy.shape[1]):\n",
    "    if policy[0,x] == 0:\n",
    "        rect = Rectangle((x, 0), 1, 1, facecolor='red', edgecolor='white')\n",
    "        ax.add_patch(rect)\n",
    "    else:\n",
    "        rect = Rectangle((x, 0), 1, 1, facecolor='green', edgecolor='white')\n",
    "        ax.add_patch(rect)\n",
    "if filename is not None:\n",
    "    plt.savefig(filename,dpi=600, bbox_inches='tight')\n",
    "plt.show()"
   ]
  },
  {
   "cell_type": "code",
   "execution_count": 69,
   "metadata": {},
   "outputs": [
    {
     "name": "stdout",
     "output_type": "stream",
     "text": [
      "Solution\n",
      "[[0 1 1 1 1 1 1 1 1 1 1 1 1 1 1 1 1 1 1 1 1 1 1 1 1 1 1 1 1 1 1 1 1 1 1 1\n",
      "  1 1 1 1 1 1 1 1 1 1 1 1 1 1 0]]\n",
      "73\n"
     ]
    }
   ],
   "source": [
    "policy_VSS_true = MDPsolver_true(tr_VSS, 50, 0, n = 1, t_aux = 0, c_down = -2, c_fail = -1)"
   ]
  },
  {
   "cell_type": "code",
   "execution_count": 158,
   "metadata": {},
   "outputs": [
    {
     "name": "stdout",
     "output_type": "stream",
     "text": [
      "Solution\n",
      "[[0 1 1 1 1 1 1 1 1 1 1 1 1 1 1 1 1 1 1 1 1 1 1 1 1 1 1 1 1 1 1 1 1 1 1 1\n",
      "  1 1 1 1 1 1 1 1 1 1 1 1 1 1 0]]\n",
      "73\n"
     ]
    }
   ],
   "source": [
    "policy_VSS = MDPsolver(elaps_VSS, 50, 0, n = 1, t_aux = 0, c_down = -2, c_fail = -1)"
   ]
  },
  {
   "cell_type": "code",
   "execution_count": 159,
   "metadata": {},
   "outputs": [
    {
     "data": {
      "image/png": "[encoded data removed]",
      "text/plain": [
       "<Figure size 720x72 with 1 Axes>"
      ]
     },
     "metadata": {
      "needs_background": "light"
     },
     "output_type": "display_data"
    }
   ],
   "source": [
    "policy = policy_VSS \n",
    "filename='VSS_policy2'\n",
    "fig, ax =plt.subplots(1,figsize=(10,1))\n",
    "ax.get_yaxis().set_visible(False)\n",
    "ax.set_xlim([0,30])\n",
    "ax.set_xticks(np.arange(0,30,5)+0.5)\n",
    "ax.set_xticklabels(np.arange(0,30,5))\n",
    "for x in range(30):\n",
    "    if policy[0,x] == 0:\n",
    "        rect = Rectangle((x, 0), 1, 1, facecolor='red', edgecolor='white')\n",
    "        ax.add_patch(rect)\n",
    "    else:\n",
    "        rect = Rectangle((x, 0), 1, 1, facecolor='green', edgecolor='white')\n",
    "        ax.add_patch(rect)\n",
    "if filename is not None:\n",
    "    plt.savefig(filename,dpi=600, bbox_inches='tight')\n",
    "plt.show()"
   ]
  },
  {
   "cell_type": "code",
   "execution_count": 70,
   "metadata": {},
   "outputs": [
    {
     "name": "stdout",
     "output_type": "stream",
     "text": [
      "Solution\n",
      "[[0 1 1 1 1 1 1 1 1 1 1 1 1 1 1 1 1 1 1 1 1 1 1 1 1 1 1 1 1 1 1 1 1 1 1 1\n",
      "  1 1 1 1 1 1 1 1 1 1 1 1 1 1 0]]\n",
      "66\n"
     ]
    }
   ],
   "source": [
    "policy_GCS_true = MDPsolver_true(tr_GCS, 50, 0, n = 1, t_aux = 0, c_down = -2, c_fail = -1)"
   ]
  },
  {
   "cell_type": "code",
   "execution_count": 160,
   "metadata": {},
   "outputs": [
    {
     "name": "stdout",
     "output_type": "stream",
     "text": [
      "Solution\n",
      "[[0 1 1 1 1 1 1 1 1 1 1 1 1 1 1 1 1 1 1 1 1 1 1 1 1 1 1 1 1 1 1 1 1 1 1 1\n",
      "  1 1 1 1 1 1 1 1 1 1 1 1 1 1 0]]\n",
      "66\n"
     ]
    }
   ],
   "source": [
    "policy_GCS = MDPsolver(elaps_GCS, 50, 0, n = 1, t_aux = 0, c_down = -2, c_fail = -1)"
   ]
  },
  {
   "cell_type": "code",
   "execution_count": 161,
   "metadata": {},
   "outputs": [
    {
     "data": {
      "image/png": "[encoded data removed]",
      "text/plain": [
       "<Figure size 720x72 with 1 Axes>"
      ]
     },
     "metadata": {
      "needs_background": "light"
     },
     "output_type": "display_data"
    }
   ],
   "source": [
    "policy = policy_GCS \n",
    "filename='GCS_policy2'\n",
    "fig, ax =plt.subplots(1,figsize=(10,1))\n",
    "ax.get_yaxis().set_visible(False)\n",
    "ax.set_xlim([0,30])\n",
    "ax.set_xticks(np.arange(0,30,5)+0.5)\n",
    "ax.set_xticklabels(np.arange(0,30,5))\n",
    "for x in range(30):\n",
    "    if policy[0,x] == 0:\n",
    "        rect = Rectangle((x, 0), 1, 1, facecolor='red', edgecolor='white')\n",
    "        ax.add_patch(rect)\n",
    "    else:\n",
    "        rect = Rectangle((x, 0), 1, 1, facecolor='green', edgecolor='white')\n",
    "        ax.add_patch(rect)\n",
    "if filename is not None:\n",
    "    plt.savefig(filename,dpi=600, bbox_inches='tight')\n",
    "plt.show()"
   ]
  },
  {
   "cell_type": "code",
   "execution_count": 162,
   "metadata": {},
   "outputs": [
    {
     "name": "stdout",
     "output_type": "stream",
     "text": [
      "Solution\n",
      "[[0 1 1 1 1 1 1 1 1 1 1 1 1 1 1 1 1 1 1 1 1 1 1 1 1 1 1 1 1 1 1 1 1 1 1 1\n",
      "  1 1 1 1 1 1 1 1 1 1 1 1 1 1 0]]\n",
      "67\n"
     ]
    }
   ],
   "source": [
    "policy_SCT = MDPsolver(elaps, 50, 0, n = 1, t_aux = 0, c_down = -2, c_fail = -1)"
   ]
  },
  {
   "cell_type": "code",
   "execution_count": 163,
   "metadata": {},
   "outputs": [
    {
     "data": {
      "image/png": "[encoded data removed]",
      "text/plain": [
       "<Figure size 720x72 with 1 Axes>"
      ]
     },
     "metadata": {
      "needs_background": "light"
     },
     "output_type": "display_data"
    }
   ],
   "source": [
    "policy = policy_SCT \n",
    "filename='SCT_policy2'\n",
    "fig, ax =plt.subplots(1,figsize=(10,1))\n",
    "ax.get_yaxis().set_visible(False)\n",
    "ax.set_xlim([0,30])\n",
    "ax.set_xticks(np.arange(0,30,5)+0.5)\n",
    "ax.set_xticklabels(np.arange(0,30,5))\n",
    "ax.set_xlabel('favorable time')\n",
    "for x in range(30):\n",
    "    if policy[0,x] == 0:\n",
    "        rect = Rectangle((x, 0), 1, 1, facecolor='red', edgecolor='white')\n",
    "        ax.add_patch(rect)\n",
    "    else:\n",
    "        rect = Rectangle((x, 0), 1, 1, facecolor='green', edgecolor='white')\n",
    "        ax.add_patch(rect)\n",
    "if filename is not None:\n",
    "    plt.savefig(filename,dpi=600, bbox_inches='tight')\n",
    "plt.show()"
   ]
  },
  {
   "cell_type": "markdown",
   "metadata": {},
   "source": [
    "# exponential"
   ]
  },
  {
   "cell_type": "code",
   "execution_count": 24,
   "metadata": {},
   "outputs": [],
   "source": [
    "def MDPsolver2(elaps, wmax, dmax, n = 4, t_aux = 0, c_down = -1.5, c_fail = -1):\n",
    "    #Intermediate transition matrix\n",
    "    CmfWTC = np.zeros(shape=(wmax+1,wmax+1), dtype=int)\n",
    "    CmfWTC_n = np.zeros(shape=(wmax+1,wmax+1), dtype=int)\n",
    "    \n",
    "    for i in range(1,len(elaps)):\n",
    "        if (elaps[i-1] <= wmax) & (elaps[i] <= wmax):\n",
    "            CmfWTC[elaps[i-1],elaps[i]] += 1\n",
    "        elif (elaps[i-1] == wmax) & (elaps[i] == wmax+1):\n",
    "            CmfWTC[elaps[i-1],elaps[i-1]] += 1\n",
    "    for i in range(n,len(elaps)):\n",
    "        if (elaps[i-n] <= wmax) & (elaps[i] <= wmax):\n",
    "            CmfWTC_n[elaps[i-n],elaps[i]] += 1\n",
    "        elif (elaps[i-n] == wmax) & (elaps[i] == wmax+n):\n",
    "            CmfWTC_n[elaps[i-n],elaps[i-n]] += 1\n",
    "    \n",
    "    TrWTC = np.divide(CmfWTC,np.sum(CmfWTC,1)[:,None])\n",
    "    TrWTC_n = np.divide(CmfWTC_n,np.sum(CmfWTC_n,1)[:,None])\n",
    "    \n",
    "    #Downtime range 0 - dmax\n",
    "    P = np.zeros((2,(wmax+1)*(dmax+1),(wmax+1)*(dmax+1)))\n",
    "    R = np.zeros((2,(wmax+1)*(dmax+1),(wmax+1)*(dmax+1)))\n",
    "    \n",
    "    # Action 0 : Stay\n",
    "    for i in range(dmax+1):\n",
    "        if (i+1) <= dmax:\n",
    "            P[0,(wmax+1)*i:(wmax+1)*(i+1),(wmax+1)*(i+1):(wmax+1)*(i+2)] = TrWTC\n",
    "            R[0,(wmax+1)*i:(wmax+1)*(i+1),(wmax+1)*(i+1):(wmax+1)*(i+2)] = c_down*np.exp(0.1*i)\n",
    "        else:\n",
    "            P[0,(wmax+1)*i:(wmax+1)*(i+1),(wmax+1)*dmax:(wmax+1)*(dmax+1)] = TrWTC\n",
    "            R[0,(wmax+1)*i:(wmax+1)*(i+1),(wmax+1)*dmax:(wmax+1)*(dmax+1)] = c_down*np.exp(0.1*dmax)\n",
    "\n",
    "    #Action 1 : Go\n",
    "    for i in range(dmax+1):\n",
    "        P[1,(wmax+1)*i:(wmax+1)*(i+1),n:(wmax+1)] = TrWTC_n[:,n:(wmax+1)]\n",
    "\n",
    "        if (i + n) <= dmax:\n",
    "            P[1,(wmax+1)*i:(wmax+1)*(i+1),(wmax+1)*(i+n):(wmax+1)*(i+n)+n] = TrWTC_n[:,:n]\n",
    "            R[1,(wmax+1)*i:(wmax+1)*(i+1),(wmax+1)*(i+n):(wmax+1)*(i+n)+n] = np.sum(c_down*np.exp(0.1*(i+np.arange(n))))+c_fail\n",
    "        else:\n",
    "            P[1,(wmax+1)*i:(wmax+1)*(i+1),(wmax+1)*dmax:(wmax+1)*dmax+n] = TrWTC_n[:,:n]\n",
    "            R[1,(wmax+1)*i:(wmax+1)*(i+1),(wmax+1)*dmax:(wmax+1)*dmax+n] = np.sum(c_down*np.exp(0.1*(i+np.arange(n))))+c_fail\n",
    "    \n",
    "    mdptoolbox.util.check(P, R)\n",
    "    \n",
    "    vi = mdptoolbox.mdp.ValueIteration([P[0],P[1]],[R[0],R[1]],1)\n",
    "    vi.run()\n",
    "    policy = np.array(vi.policy)\n",
    "    policy = policy.reshape((dmax+1,wmax+1))\n",
    "    print('Solution')\n",
    "    print(policy)\n",
    "    print(vi.iter)\n",
    "    \n",
    "    return policy, TrWTC, TrWTC_n\n",
    "\n",
    "def plotter2(policy,shape=None,xlabel=False,filename=None):\n",
    "    from matplotlib.patches import Rectangle\n",
    "    if shape is None:\n",
    "        shape = policy.shape\n",
    "    fig, ax = plt.subplots(1,figsize=(4,4))\n",
    "    ax.set_ylabel('i (downtime)')\n",
    "    ax.set_xlabel('x')\n",
    "    ax.set_xlim([0,shape[1]])\n",
    "    ax.set_ylim([0,shape[0]])\n",
    "    if shape[0] > 10:\n",
    "        ax.set_xticks(np.arange(0,shape[1],5)+0.5)\n",
    "        ax.set_xticklabels(np.arange(0,shape[1],5))\n",
    "        ax.set_yticks(np.arange(0,shape[0],5)+0.5)\n",
    "        ax.set_yticklabels(np.arange(0,shape[0],5))\n",
    "    else:\n",
    "        ax.set_xticks(np.arange(0,shape[1])+0.5)\n",
    "        ax.set_xticklabels(np.arange(0,shape[1]))\n",
    "        ax.set_yticks(np.arange(0,shape[0])+0.5)\n",
    "        ax.set_yticklabels(np.arange(0,shape[0]))\n",
    "    \n",
    "    for i in range(shape[1]):\n",
    "        for x in range(shape[0]):\n",
    "            if policy[i,x] == 0:\n",
    "                rect = Rectangle((x, i), 1, 1, facecolor='red', edgecolor='white')\n",
    "                ax.add_patch(rect)\n",
    "            else:\n",
    "                rect = Rectangle((x, i), 1, 1, facecolor='green', edgecolor='white')\n",
    "                ax.add_patch(rect)\n",
    "    if filename is not None:\n",
    "        plt.savefig(filename,dpi=600, bbox_inches='tight')\n",
    "    plt.show()"
   ]
  },
  {
   "cell_type": "code",
   "execution_count": 25,
   "metadata": {},
   "outputs": [],
   "source": [
    "def MDPsolver2_true(tr, wmax, dmax, n = 4, t_aux = 0, c_down = -1.5, c_fail = -1):\n",
    "    #Intermediate transition matrix\n",
    "    TrWTC = np.zeros(shape=(wmax+1,wmax+1))\n",
    "    \n",
    "    for i in range(wmax):\n",
    "        TrWTC[i,0] = tr[i,0]\n",
    "        TrWTC[i,i+1] = tr[i,1]\n",
    "    TrWTC[wmax,0] = tr[wmax,0]\n",
    "    TrWTC[wmax,wmax] = tr[wmax,1]\n",
    "    \n",
    "    TrWTC_n = np.linalg.matrix_power(TrWTC,n)\n",
    "        \n",
    "    #Downtime range 0 - dmax\n",
    "    P = np.zeros((2,(wmax+1)*(dmax+1),(wmax+1)*(dmax+1)))\n",
    "    R = np.zeros((2,(wmax+1)*(dmax+1),(wmax+1)*(dmax+1)))\n",
    "    \n",
    "    # Action 0 : Stay\n",
    "    for i in range(dmax+1):\n",
    "        if (i+1) <= dmax:\n",
    "            P[0,(wmax+1)*i:(wmax+1)*(i+1),(wmax+1)*(i+1):(wmax+1)*(i+2)] = TrWTC\n",
    "            R[0,(wmax+1)*i:(wmax+1)*(i+1),(wmax+1)*(i+1):(wmax+1)*(i+2)] = c_down*np.exp(0.1*i)\n",
    "        else:\n",
    "            P[0,(wmax+1)*i:(wmax+1)*(i+1),(wmax+1)*dmax:(wmax+1)*(dmax+1)] = TrWTC\n",
    "            R[0,(wmax+1)*i:(wmax+1)*(i+1),(wmax+1)*dmax:(wmax+1)*(dmax+1)] = c_down*np.exp(0.1*dmax)\n",
    "\n",
    "    #Action 1 : Go\n",
    "    for i in range(dmax+1):\n",
    "        P[1,(wmax+1)*i:(wmax+1)*(i+1),n:(wmax+1)] = TrWTC_n[:,n:(wmax+1)]\n",
    "\n",
    "        if (i + n) <= dmax:\n",
    "            P[1,(wmax+1)*i:(wmax+1)*(i+1),(wmax+1)*(i+n):(wmax+1)*(i+n)+n] = TrWTC_n[:,:n]\n",
    "            R[1,(wmax+1)*i:(wmax+1)*(i+1),(wmax+1)*(i+n):(wmax+1)*(i+n)+n] = np.sum(c_down*np.exp(0.1*(i+np.arange(n))))+c_fail\n",
    "        else:\n",
    "            P[1,(wmax+1)*i:(wmax+1)*(i+1),(wmax+1)*dmax:(wmax+1)*dmax+n] = TrWTC_n[:,:n]\n",
    "            R[1,(wmax+1)*i:(wmax+1)*(i+1),(wmax+1)*dmax:(wmax+1)*dmax+n] = np.sum(c_down*np.exp(0.1*(i+np.arange(n))))+c_fail\n",
    "    \n",
    "    mdptoolbox.util.check(P, R)\n",
    "    \n",
    "    vi = mdptoolbox.mdp.ValueIteration([P[0],P[1]],[R[0],R[1]],1)\n",
    "    vi.run()\n",
    "    policy = np.array(vi.policy)\n",
    "    policy = policy.reshape((dmax+1,wmax+1))\n",
    "    print('Solution')\n",
    "    print(policy)\n",
    "    print(vi.iter)\n",
    "    \n",
    "    return policy"
   ]
  },
  {
   "cell_type": "code",
   "execution_count": 13,
   "metadata": {},
   "outputs": [
    {
     "data": {
      "image/png": "[encoded data removed]",
      "text/plain": [
       "<Figure size 640x480 with 1 Axes>"
      ]
     },
     "metadata": {},
     "output_type": "display_data"
    }
   ],
   "source": [
    "plt.plot(np.arange(30), -0.8*np.exp(0.1*np.arange(30)),'.-')\n",
    "plt.hlines(-2,0,30,color='k',ls='--',lw=1)\n",
    "plt.vlines(9,plt.gca().get_ylim()[0],-2,color='gray',lw=1)\n",
    "plt.annotate('9',(8.6,-15.8))\n",
    "plt.xlabel('i (downtime)')\n",
    "plt.ylabel(r'$c_{down}$ (per unit time loss of revenue)')\n",
    "plt.yticks(np.arange(-16,0,2))\n",
    "plt.xticks([0,5,10,15,20,25,30])\n",
    "plt.savefig('exp_c_down.jpg', dpi=250, bbox_inches='tight')\n",
    "plt.show()"
   ]
  },
  {
   "cell_type": "markdown",
   "metadata": {},
   "source": [
    "# n=1"
   ]
  },
  {
   "cell_type": "code",
   "execution_count": 28,
   "metadata": {},
   "outputs": [
    {
     "name": "stdout",
     "output_type": "stream",
     "text": [
      "WARNING: check conditions of convergence. With no discount, convergence can not be assumed.\n",
      "Solution\n",
      "[[0 0 0 0 0 0 0 0 0 0]\n",
      " [1 1 1 1 1 1 1 1 1 1]\n",
      " [1 1 1 1 1 1 1 1 1 1]\n",
      " [1 1 1 1 1 1 1 1 1 1]\n",
      " [1 1 1 1 1 1 1 1 1 1]\n",
      " [1 1 1 1 1 1 1 1 1 1]\n",
      " [1 1 1 1 1 1 1 1 1 1]\n",
      " [1 1 1 1 1 1 1 1 1 1]\n",
      " [1 1 1 1 1 1 1 1 1 1]\n",
      " [1 1 1 1 1 1 1 1 1 1]]\n",
      "7\n",
      "WARNING: check conditions of convergence. With no discount, convergence can not be assumed.\n",
      "Solution\n",
      "[[0 0 0 0 0 0 0 0 0 0]\n",
      " [1 1 1 1 1 1 1 1 1 1]\n",
      " [1 1 1 1 1 1 1 1 1 1]\n",
      " [1 1 1 1 1 1 1 1 1 1]\n",
      " [1 1 1 1 1 1 1 1 1 1]\n",
      " [1 1 1 1 1 1 1 1 1 1]\n",
      " [1 1 1 1 1 1 1 1 1 1]\n",
      " [1 1 1 1 1 1 1 1 1 1]\n",
      " [1 1 1 1 1 1 1 1 1 1]\n",
      " [1 1 1 1 1 1 1 1 1 1]]\n",
      "7\n"
     ]
    }
   ],
   "source": [
    "policy_HVS2, TrWTC, TrWTC_n = MDPsolver2(elaps_HVS, 9, 9, n = 1, t_aux = 0, c_down = -0.8, c_fail = -1)\n",
    "policy_HVS2_true = MDPsolver2_true(tr_HVS, 9, 9, n = 1, t_aux = 0, c_down = -0.8, c_fail = -1)"
   ]
  },
  {
   "cell_type": "code",
   "execution_count": 29,
   "metadata": {},
   "outputs": [
    {
     "data": {
      "image/png": "[encoded data removed]",
      "text/plain": [
       "<Figure size 288x288 with 1 Axes>"
      ]
     },
     "metadata": {
      "needs_background": "light"
     },
     "output_type": "display_data"
    },
    {
     "data": {
      "image/png": "[encoded data removed]",
      "text/plain": [
       "<Figure size 288x288 with 1 Axes>"
      ]
     },
     "metadata": {
      "needs_background": "light"
     },
     "output_type": "display_data"
    }
   ],
   "source": [
    "plotter2(policy_HVS2)\n",
    "plotter2(policy_HVS2_true)"
   ]
  },
  {
   "cell_type": "code",
   "execution_count": 188,
   "metadata": {},
   "outputs": [
    {
     "name": "stdout",
     "output_type": "stream",
     "text": [
      "WARNING: check conditions of convergence. With no discount, convergence can not be assumed.\n",
      "Solution\n",
      "[[0 1 1 ... 1 1 0]\n",
      " [0 1 1 ... 1 1 0]\n",
      " [0 1 1 ... 1 1 0]\n",
      " ...\n",
      " [1 1 1 ... 1 1 0]\n",
      " [1 1 1 ... 1 1 0]\n",
      " [1 1 1 ... 1 1 0]]\n",
      "109\n",
      "WARNING: check conditions of convergence. With no discount, convergence can not be assumed.\n",
      "Solution\n",
      "[[0 1 1 ... 1 1 0]\n",
      " [0 1 1 ... 1 1 0]\n",
      " [0 1 1 ... 1 1 0]\n",
      " ...\n",
      " [1 1 1 ... 1 1 0]\n",
      " [1 1 1 ... 1 1 0]\n",
      " [1 1 1 ... 1 1 0]]\n",
      "108\n"
     ]
    }
   ],
   "source": [
    "policy_VSS2, _, _ = MDPsolver2(elaps_VSS, 50, 50, n = 1, t_aux = 0, c_down = -0.8, c_fail = -1)\n",
    "policy_VSS2_true = MDPsolver2_true(tr_VSS, 50, 50, n = 1, t_aux = 0, c_down = -0.8, c_fail = -1)"
   ]
  },
  {
   "cell_type": "code",
   "execution_count": 198,
   "metadata": {},
   "outputs": [
    {
     "data": {
      "image/png": "[encoded data removed]",
      "text/plain": [
       "<Figure size 288x288 with 1 Axes>"
      ]
     },
     "metadata": {
      "needs_background": "light"
     },
     "output_type": "display_data"
    },
    {
     "data": {
      "image/png": "[encoded data removed]",
      "text/plain": [
       "<Figure size 288x288 with 1 Axes>"
      ]
     },
     "metadata": {
      "needs_background": "light"
     },
     "output_type": "display_data"
    }
   ],
   "source": [
    "plotter2(policy_VSS2,(30,30))\n",
    "plotter2(policy_VSS2_true,(30,30))"
   ]
  },
  {
   "cell_type": "code",
   "execution_count": 72,
   "metadata": {},
   "outputs": [
    {
     "name": "stdout",
     "output_type": "stream",
     "text": [
      "WARNING: check conditions of convergence. With no discount, convergence can not be assumed.\n",
      "Solution\n",
      "[[0 1 1 ... 1 1 0]\n",
      " [0 1 1 ... 1 1 0]\n",
      " [0 1 1 ... 1 1 0]\n",
      " ...\n",
      " [1 1 1 ... 1 1 0]\n",
      " [1 1 1 ... 1 1 0]\n",
      " [1 1 1 ... 1 1 0]]\n",
      "66\n",
      "WARNING: check conditions of convergence. With no discount, convergence can not be assumed.\n",
      "Solution\n",
      "[[0 1 1 ... 1 1 0]\n",
      " [0 1 1 ... 1 1 0]\n",
      " [0 1 1 ... 1 1 0]\n",
      " ...\n",
      " [1 1 1 ... 1 1 0]\n",
      " [1 1 1 ... 1 1 0]\n",
      " [1 1 1 ... 1 1 0]]\n",
      "65\n"
     ]
    }
   ],
   "source": [
    "policy_GCS2, _, _ = MDPsolver2(elaps_GCS, 50, 50, n = 1, t_aux = 0, c_down = -0.8, c_fail = -1)\n",
    "policy_GCS2_true = MDPsolver2_true(tr_GCS, 50, 50, n = 1, t_aux = 0, c_down = -0.8, c_fail = -1)"
   ]
  },
  {
   "cell_type": "code",
   "execution_count": 73,
   "metadata": {},
   "outputs": [
    {
     "data": {
      "image/png": "[encoded data removed]",
      "text/plain": [
       "<Figure size 288x288 with 1 Axes>"
      ]
     },
     "metadata": {
      "needs_background": "light"
     },
     "output_type": "display_data"
    },
    {
     "data": {
      "image/png": "[encoded data removed]",
      "text/plain": [
       "<Figure size 288x288 with 1 Axes>"
      ]
     },
     "metadata": {
      "needs_background": "light"
     },
     "output_type": "display_data"
    }
   ],
   "source": [
    "plotter2(policy_GCS2,(30,30))\n",
    "plotter2(policy_GCS2_true,(30,30))"
   ]
  },
  {
   "cell_type": "code",
   "execution_count": 74,
   "metadata": {},
   "outputs": [
    {
     "name": "stdout",
     "output_type": "stream",
     "text": [
      "WARNING: check conditions of convergence. With no discount, convergence can not be assumed.\n",
      "Solution\n",
      "[[0 1 1 ... 1 1 1]\n",
      " [0 1 1 ... 1 1 1]\n",
      " [0 1 1 ... 1 1 1]\n",
      " ...\n",
      " [1 1 1 ... 1 1 1]\n",
      " [1 1 1 ... 1 1 1]\n",
      " [1 1 1 ... 1 1 1]]\n",
      "48\n"
     ]
    }
   ],
   "source": [
    "policy_SCT2,_,_ = MDPsolver2(elaps, 50, 50, n = 1, t_aux = 0, c_down = -0.8, c_fail = -1)"
   ]
  },
  {
   "cell_type": "code",
   "execution_count": 75,
   "metadata": {},
   "outputs": [
    {
     "data": {
      "image/png": "[encoded data removed]",
      "text/plain": [
       "<Figure size 288x288 with 1 Axes>"
      ]
     },
     "metadata": {
      "needs_background": "light"
     },
     "output_type": "display_data"
    }
   ],
   "source": [
    "plotter2(policy_SCT2,(30,30))"
   ]
  },
  {
   "cell_type": "markdown",
   "metadata": {},
   "source": [
    "# n=3"
   ]
  },
  {
   "cell_type": "code",
   "execution_count": 32,
   "metadata": {},
   "outputs": [
    {
     "name": "stdout",
     "output_type": "stream",
     "text": [
      "WARNING: check conditions of convergence. With no discount, convergence can not be assumed.\n",
      "Solution\n",
      "[[0 0 0 0 0 0 0 0 0 0]\n",
      " [0 0 0 0 0 0 0 0 0 0]\n",
      " [0 0 0 0 0 0 0 0 0 0]\n",
      " [0 0 0 0 0 0 0 0 0 0]\n",
      " [0 0 0 0 0 0 0 0 0 0]\n",
      " [0 0 0 0 0 0 0 0 0 0]\n",
      " [0 0 0 0 0 0 0 0 0 0]\n",
      " [0 0 0 0 0 0 0 0 0 0]\n",
      " [0 0 0 0 0 0 0 0 0 0]\n",
      " [0 0 0 0 0 0 0 0 0 0]]\n",
      "10\n",
      "WARNING: check conditions of convergence. With no discount, convergence can not be assumed.\n",
      "Solution\n",
      "[[0 0 0 0 0 0 0 0 0 0]\n",
      " [0 0 0 0 0 0 0 0 0 0]\n",
      " [0 0 0 0 0 0 0 0 0 0]\n",
      " [0 0 0 0 0 0 0 0 0 0]\n",
      " [0 0 0 0 0 0 0 0 0 0]\n",
      " [0 0 0 0 0 0 0 0 0 0]\n",
      " [0 0 0 0 0 0 0 0 0 0]\n",
      " [0 0 0 0 0 0 0 0 0 0]\n",
      " [0 0 0 0 0 0 0 0 0 0]\n",
      " [0 0 0 0 0 0 0 0 0 0]]\n",
      "10\n"
     ]
    }
   ],
   "source": [
    "policy_HVS2,_,_ = MDPsolver2(elaps_HVS, 9, 9, n = 3, t_aux = 0, c_down = -0.8, c_fail = -1)\n",
    "policy_HVS2_true = MDPsolver2_true(tr_HVS, 9, 9, n = 3, t_aux = 0, c_down = -0.8, c_fail = -1)"
   ]
  },
  {
   "cell_type": "code",
   "execution_count": 33,
   "metadata": {},
   "outputs": [
    {
     "data": {
      "image/png": "[encoded data removed]",
      "text/plain": [
       "<Figure size 288x288 with 1 Axes>"
      ]
     },
     "metadata": {
      "needs_background": "light"
     },
     "output_type": "display_data"
    },
    {
     "data": {
      "image/png": "[encoded data removed]",
      "text/plain": [
       "<Figure size 288x288 with 1 Axes>"
      ]
     },
     "metadata": {
      "needs_background": "light"
     },
     "output_type": "display_data"
    }
   ],
   "source": [
    "plotter2(policy_HVS2)\n",
    "plotter2(policy_HVS2_true)"
   ]
  },
  {
   "cell_type": "code",
   "execution_count": 34,
   "metadata": {},
   "outputs": [
    {
     "name": "stdout",
     "output_type": "stream",
     "text": [
      "WARNING: check conditions of convergence. With no discount, convergence can not be assumed.\n",
      "Solution\n",
      "[[0 0 0 ... 0 0 0]\n",
      " [0 0 0 ... 0 0 0]\n",
      " [0 0 0 ... 0 0 0]\n",
      " ...\n",
      " [0 1 1 ... 0 0 0]\n",
      " [0 1 1 ... 0 0 0]\n",
      " [0 1 1 ... 0 0 0]]\n",
      "93\n",
      "WARNING: check conditions of convergence. With no discount, convergence can not be assumed.\n",
      "Solution\n",
      "[[0 0 0 ... 0 0 0]\n",
      " [0 0 0 ... 0 0 0]\n",
      " [0 0 0 ... 0 0 0]\n",
      " ...\n",
      " [0 1 1 ... 0 0 0]\n",
      " [0 1 1 ... 0 0 0]\n",
      " [0 1 1 ... 0 0 0]]\n",
      "92\n"
     ]
    }
   ],
   "source": [
    "policy_VSS2, _, _ = MDPsolver2(elaps_VSS, 50, 50, n = 3, t_aux = 0, c_down = -0.8, c_fail = -1)\n",
    "policy_VSS2_true = MDPsolver2_true(tr_VSS, 50, 50, n = 3, t_aux = 0, c_down = -0.8, c_fail = -1)"
   ]
  },
  {
   "cell_type": "code",
   "execution_count": 35,
   "metadata": {},
   "outputs": [
    {
     "data": {
      "image/png": "[encoded data removed]",
      "text/plain": [
       "<Figure size 288x288 with 1 Axes>"
      ]
     },
     "metadata": {
      "needs_background": "light"
     },
     "output_type": "display_data"
    },
    {
     "data": {
      "image/png": "[encoded data removed]",
      "text/plain": [
       "<Figure size 288x288 with 1 Axes>"
      ]
     },
     "metadata": {
      "needs_background": "light"
     },
     "output_type": "display_data"
    }
   ],
   "source": [
    "plotter2(policy_VSS2,(30,30))\n",
    "plotter2(policy_VSS2_true,(30,30))"
   ]
  },
  {
   "cell_type": "code",
   "execution_count": 38,
   "metadata": {},
   "outputs": [
    {
     "name": "stdout",
     "output_type": "stream",
     "text": [
      "WARNING: check conditions of convergence. With no discount, convergence can not be assumed.\n",
      "Solution\n",
      "[[0 0 0 ... 0 0 0]\n",
      " [0 0 0 ... 0 0 0]\n",
      " [0 0 1 ... 0 0 0]\n",
      " ...\n",
      " [1 1 1 ... 0 0 0]\n",
      " [1 1 1 ... 0 0 0]\n",
      " [1 1 1 ... 0 0 0]]\n",
      "69\n",
      "WARNING: check conditions of convergence. With no discount, convergence can not be assumed.\n",
      "Solution\n",
      "[[0 0 0 ... 0 0 0]\n",
      " [0 0 0 ... 0 0 0]\n",
      " [0 0 0 ... 0 0 0]\n",
      " ...\n",
      " [1 1 1 ... 0 0 0]\n",
      " [1 1 1 ... 0 0 0]\n",
      " [1 1 1 ... 0 0 0]]\n",
      "69\n"
     ]
    }
   ],
   "source": [
    "policy_GCS2, _, _ = MDPsolver2(elaps_GCS, 50, 50, n = 3, t_aux = 0, c_down = -0.8, c_fail = -1)\n",
    "policy_GCS2_true = MDPsolver2_true(tr_GCS, 50, 50, n = 3, t_aux = 0, c_down = -0.8, c_fail = -1)"
   ]
  },
  {
   "cell_type": "code",
   "execution_count": 39,
   "metadata": {},
   "outputs": [
    {
     "data": {
      "image/png": "[encoded data removed]",
      "text/plain": [
       "<Figure size 288x288 with 1 Axes>"
      ]
     },
     "metadata": {
      "needs_background": "light"
     },
     "output_type": "display_data"
    },
    {
     "data": {
      "image/png": "[encoded data removed]",
      "text/plain": [
       "<Figure size 288x288 with 1 Axes>"
      ]
     },
     "metadata": {
      "needs_background": "light"
     },
     "output_type": "display_data"
    }
   ],
   "source": [
    "plotter2(policy_GCS2,(30,30))\n",
    "plotter2(policy_GCS2_true,(30,30))"
   ]
  },
  {
   "cell_type": "code",
   "execution_count": 36,
   "metadata": {},
   "outputs": [
    {
     "name": "stdout",
     "output_type": "stream",
     "text": [
      "WARNING: check conditions of convergence. With no discount, convergence can not be assumed.\n",
      "Solution\n",
      "[[0 0 0 ... 0 0 0]\n",
      " [0 0 0 ... 0 0 0]\n",
      " [0 0 0 ... 0 0 1]\n",
      " ...\n",
      " [1 1 1 ... 0 0 1]\n",
      " [1 1 1 ... 0 0 1]\n",
      " [0 1 1 ... 0 0 1]]\n",
      "61\n"
     ]
    }
   ],
   "source": [
    "policy_SCT2, _, _ = MDPsolver2(elaps, 50, 50, n = 3, t_aux = 0, c_down = -0.8, c_fail = -1)"
   ]
  },
  {
   "cell_type": "code",
   "execution_count": 37,
   "metadata": {},
   "outputs": [
    {
     "data": {
      "image/png": "[encoded data removed]",
      "text/plain": [
       "<Figure size 288x288 with 1 Axes>"
      ]
     },
     "metadata": {
      "needs_background": "light"
     },
     "output_type": "display_data"
    }
   ],
   "source": [
    "plotter2(policy_SCT2,(30,30))"
   ]
  },
  {
   "cell_type": "markdown",
   "metadata": {},
   "source": [
    "# Transition Matrix Plotter"
   ]
  },
  {
   "cell_type": "code",
   "execution_count": 10,
   "metadata": {},
   "outputs": [],
   "source": [
    "def plotter_tr(tr,ylabel=False,colorbar=False,filename=None):\n",
    "    from matplotlib.patches import Rectangle\n",
    "    from matplotlib.cm import ScalarMappable\n",
    "    import pylab as pl\n",
    "    from mpl_toolkits.axes_grid1 import make_axes_locatable\n",
    "    fig, ax =plt.subplots(1,figsize=(1,5))\n",
    "    #ax.get_xaxis().set_visible(False)\n",
    "    ax.set_xticks([0.5,1.5])\n",
    "    ax.set_xticklabels(['0','x+1'])\n",
    "    if tr.shape[0] < 30:\n",
    "        ax.set_yticks(np.arange(10)+0.5)\n",
    "        ax.set_yticklabels(range(10))\n",
    "        ylim = 10\n",
    "    else:\n",
    "        ax.set_yticks(np.arange(0,30,2)+0.5)\n",
    "        ax.set_yticklabels(range(0,30,2))\n",
    "        ylim = 30\n",
    "    ax.set_xlim([0,tr.shape[1]])\n",
    "    ax.set_ylim([0,ylim])\n",
    "    for x in range(ylim):\n",
    "        rect = Rectangle((0, x), 1, 1, facecolor=pl.cm.jet(tr[x,0]), edgecolor='white')\n",
    "        ax.add_patch(rect)\n",
    "        rect = Rectangle((1, x), 1, 1, facecolor=pl.cm.jet(tr[x,1]), edgecolor='white')\n",
    "        ax.add_patch(rect)\n",
    "    plt.gca().invert_yaxis()\n",
    "    \n",
    "    if ylabel:\n",
    "        ax.set_ylabel('x')\n",
    "    \n",
    "    if colorbar :\n",
    "        divider = make_axes_locatable(ax)\n",
    "        fig.colorbar(ScalarMappable(cmap='jet'),ax=ax,cax = divider.append_axes(\"right\", size=\"50%\", pad=0.05))\n",
    "        \n",
    "    if filename is not None:\n",
    "        plt.savefig(filename, dpi=600, bbox_inches='tight')\n",
    "        \n",
    "    plt.show()"
   ]
  },
  {
   "cell_type": "code",
   "execution_count": 93,
   "metadata": {},
   "outputs": [
    {
     "data": {
      "image/png": "[encoded data removed]",
      "text/plain": [
       "<Figure size 72x360 with 1 Axes>"
      ]
     },
     "metadata": {
      "needs_background": "light"
     },
     "output_type": "display_data"
    }
   ],
   "source": [
    "tr = tr_HVS\n",
    "filename='tr_HVS'\n",
    "#filename=None\n",
    "ylim = 10\n",
    "fig, ax =plt.subplots(1,figsize=(1,5))\n",
    "ax.annotate('0.5',(0.25,0.6))\n",
    "ax.set_xticks([0.5,1.5])\n",
    "ax.set_xticklabels(['0','x+1'])\n",
    "ax.set_yticks(np.arange(10)+0.5)\n",
    "ax.set_yticklabels(range(10))\n",
    "ax.set_xlim([0,tr.shape[1]])\n",
    "ax.set_ylim([0,ylim])\n",
    "for x in range(ylim):\n",
    "    rect = Rectangle((0, x), 1, 1, facecolor=pl.cm.jet(tr[x,0]), edgecolor='white')\n",
    "    ax.add_patch(rect)\n",
    "    rect = Rectangle((1, x), 1, 1, facecolor=pl.cm.jet(tr[x,1]), edgecolor='white')\n",
    "    ax.add_patch(rect)\n",
    "plt.gca().invert_yaxis()\n",
    "ax.set_ylabel('x')\n",
    "if filename is not None:\n",
    "    plt.savefig(filename, dpi=600, bbox_inches='tight')\n",
    "plt.show()"
   ]
  },
  {
   "cell_type": "code",
   "execution_count": 4,
   "metadata": {},
   "outputs": [
    {
     "data": {
      "image/png": "[encoded data removed]",
      "text/plain": [
       "<Figure size 72x360 with 1 Axes>"
      ]
     },
     "metadata": {
      "needs_background": "light"
     },
     "output_type": "display_data"
    }
   ],
   "source": [
    "tr = tr_VSS\n",
    "filename='tr_VSS'\n",
    "#filename=None\n",
    "ylim = 30\n",
    "fig, ax =plt.subplots(1,figsize=(1,5))\n",
    "#ax.annotate('0.9',(1.25,0.9),fontsize=9,color='white')\n",
    "#ax.annotate('0.95',(0.2,1.9),fontsize=9,color='white')\n",
    "ax.set_xticks([0.5,1.5])\n",
    "ax.set_xticklabels(['0','x+1'])\n",
    "ax.set_yticks(np.arange(0,30,2)+0.5)\n",
    "ax.set_yticklabels(range(0,30,2))\n",
    "ax.set_xlim([0,tr.shape[1]])\n",
    "ax.set_ylim([0,ylim])\n",
    "for x in range(ylim):\n",
    "    rect = Rectangle((0, x), 1, 1, facecolor=pl.cm.jet(tr[x,0]), edgecolor='white')\n",
    "    ax.add_patch(rect)\n",
    "    rect = Rectangle((1, x), 1, 1, facecolor=pl.cm.jet(tr[x,1]), edgecolor='white')\n",
    "    ax.add_patch(rect)\n",
    "plt.gca().invert_yaxis()\n",
    "#ax.set_ylabel('x')\n",
    "if filename is not None:\n",
    "    plt.savefig(filename, dpi=600, bbox_inches='tight')\n",
    "plt.show()"
   ]
  },
  {
   "cell_type": "code",
   "execution_count": 41,
   "metadata": {},
   "outputs": [
    {
     "data": {
      "image/png": "[encoded data removed]",
      "text/plain": [
       "<Figure size 72x360 with 1 Axes>"
      ]
     },
     "metadata": {
      "needs_background": "light"
     },
     "output_type": "display_data"
    }
   ],
   "source": [
    "plotter_tr(tr_GCS,filename='tr_GCS')\n",
    "#plotter_tr(tr_GCS)"
   ]
  },
  {
   "cell_type": "code",
   "execution_count": 42,
   "metadata": {},
   "outputs": [
    {
     "data": {
      "image/png": "[encoded data removed]",
      "text/plain": [
       "<Figure size 72x360 with 1 Axes>"
      ]
     },
     "metadata": {
      "needs_background": "light"
     },
     "output_type": "display_data"
    }
   ],
   "source": [
    "plotter_tr(tr_reduced[:51],filename='tr_SCT')\n",
    "#plotter_tr(tr_reduced[:51])"
   ]
  },
  {
   "cell_type": "code",
   "execution_count": 43,
   "metadata": {},
   "outputs": [
    {
     "data": {
      "image/png": "[encoded data removed]",
      "text/plain": [
       "<Figure size 72x360 with 2 Axes>"
      ]
     },
     "metadata": {
      "needs_background": "light"
     },
     "output_type": "display_data"
    }
   ],
   "source": [
    "plotter_tr(tr_reduced[:51],colorbar=True,filename='tr_colorbar')\n",
    "#plotter_tr(tr_reduced[:51],colorbar=True)"
   ]
  },
  {
   "cell_type": "code",
   "execution_count": 71,
   "metadata": {},
   "outputs": [
    {
     "data": {
      "text/plain": [
       "array([[0.71944152, 0.28055848],\n",
       "       [0.22086466, 0.77913534],\n",
       "       [0.17490953, 0.82509047]])"
      ]
     },
     "execution_count": 71,
     "metadata": {},
     "output_type": "execute_result"
    }
   ],
   "source": [
    "tr_reduced[:3]"
   ]
  },
  {
   "cell_type": "code",
   "execution_count": 15,
   "metadata": {},
   "outputs": [],
   "source": [
    "def TPM(elaps, wmax, dmax, n = 4, t_aux = 0, c_down = -1.5, c_fail = -1, discount = 0.95):\n",
    "    #Intermediate transition matrix\n",
    "    CmfWTC = np.zeros(shape=(wmax+1,2), dtype=int)\n",
    "    CmfWTC_n = np.zeros(shape=(wmax+1,2), dtype=int)\n",
    "    \n",
    "    for i in range(1,len(elaps)):\n",
    "        if (elaps[i-1] <= wmax) & (elaps[i] <= wmax):\n",
    "            if elaps[i] != 0:\n",
    "                CmfWTC[elaps[i-1],1] += 1\n",
    "            else:\n",
    "                CmfWTC[elaps[i-1],0] += 1\n",
    "    for i in range(n,len(elaps)):\n",
    "        if (elaps[i-n] <= wmax) & (elaps[i] <= wmax):\n",
    "            if elaps[i] != 0:\n",
    "                CmfWTC_n[elaps[i-n],1] += 1\n",
    "            else:\n",
    "                CmfWTC_n[elaps[i-n],0] += 1\n",
    "    \n",
    "    TrWTC = np.divide(CmfWTC,np.sum(CmfWTC,1)[:,None])\n",
    "    TrWTC_n = np.divide(CmfWTC_n,np.sum(CmfWTC_n,1)[:,None])\n",
    "    \n",
    "    return TrWTC, TrWTC_n"
   ]
  },
  {
   "cell_type": "code",
   "execution_count": 16,
   "metadata": {},
   "outputs": [],
   "source": [
    "TrWTC, TrWTC_n = TPM(elaps, 50, 0, n = 3, t_aux = 0, c_down = -2, c_fail = -1)"
   ]
  },
  {
   "cell_type": "code",
   "execution_count": 17,
   "metadata": {},
   "outputs": [
    {
     "data": {
      "image/png": "[encoded data removed]",
      "text/plain": [
       "<Figure size 72x360 with 1 Axes>"
      ]
     },
     "metadata": {
      "needs_background": "light"
     },
     "output_type": "display_data"
    }
   ],
   "source": [
    "tr = TrWTC\n",
    "#filename='tr_SCT_1'\n",
    "filename=None\n",
    "ylim = 30\n",
    "fig, ax =plt.subplots(1,figsize=(1,5))\n",
    "ax.set_xticks([0.5,1.5])\n",
    "ax.set_xticklabels(['0','x+1'])\n",
    "ax.set_yticks(np.arange(0,30,2)+0.5)\n",
    "ax.set_yticklabels(range(0,30,2))\n",
    "ax.set_xlim([0,tr.shape[1]])\n",
    "ax.set_ylim([0,ylim])\n",
    "for x in range(ylim):\n",
    "    rect = Rectangle((0, x), 1, 1, facecolor=pl.cm.jet(tr[x,0]), edgecolor='white')\n",
    "    ax.add_patch(rect)\n",
    "    rect = Rectangle((1, x), 1, 1, facecolor=pl.cm.jet(tr[x,1]), edgecolor='white')\n",
    "    ax.add_patch(rect)\n",
    "plt.gca().invert_yaxis()\n",
    "ax.set_ylabel('x')\n",
    "if filename is not None:\n",
    "    plt.savefig(filename, dpi=600, bbox_inches='tight')\n",
    "plt.show()"
   ]
  },
  {
   "cell_type": "code",
   "execution_count": 30,
   "metadata": {},
   "outputs": [
    {
     "data": {
      "image/png": "[encoded data removed]",
      "text/plain": [
       "<Figure size 72x360 with 2 Axes>"
      ]
     },
     "metadata": {
      "needs_background": "light"
     },
     "output_type": "display_data"
    }
   ],
   "source": [
    "tr = TrWTC_n\n",
    "filename='tr_SCT_n_cbar'\n",
    "#filename=None\n",
    "ylim = 30\n",
    "fig, ax =plt.subplots(1,figsize=(1,5))\n",
    "ax.set_xticks([0.5,1.5])\n",
    "ax.set_xticklabels(['0','x+n'])\n",
    "ax.set_yticks(np.arange(0,30,2)+0.5)\n",
    "ax.set_yticklabels(range(0,30,2))\n",
    "ax.set_xlim([0,tr.shape[1]])\n",
    "ax.set_ylim([0,ylim])\n",
    "for x in range(ylim):\n",
    "    rect = Rectangle((0, x), 1, 1, facecolor=pl.cm.jet(tr[x,0]), edgecolor='white')\n",
    "    ax.add_patch(rect)\n",
    "    rect = Rectangle((1, x), 1, 1, facecolor=pl.cm.jet(tr[x,1]), edgecolor='white')\n",
    "    ax.add_patch(rect)\n",
    "plt.gca().invert_yaxis()\n",
    "ax.set_ylabel('x')\n",
    "divider = make_axes_locatable(ax)\n",
    "fig.colorbar(ScalarMappable(cmap='jet'),ax=ax,cax = divider.append_axes(\"right\", size=\"50%\", pad=0.05))\n",
    "if filename is not None:\n",
    "    plt.savefig(filename, dpi=600, bbox_inches='tight')\n",
    "plt.show()"
   ]
  },
  {
   "cell_type": "code",
   "execution_count": null,
   "metadata": {},
   "outputs": [],
   "source": []
  }
 ],
 "metadata": {
  "kernelspec": {
   "display_name": "Python 3 (ipykernel)",
   "language": "python",
   "name": "python3"
  },
  "language_info": {
   "codemirror_mode": {
    "name": "ipython",
    "version": 3
   },
   "file_extension": ".py",
   "mimetype": "text/x-python",
   "name": "python",
   "nbconvert_exporter": "python",
   "pygments_lexer": "ipython3",
   "version": "3.11.0"
  }
 },
 "nbformat": 4,
 "nbformat_minor": 4
}
